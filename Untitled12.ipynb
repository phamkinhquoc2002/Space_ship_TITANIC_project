{
 "cells": [
  {
   "cell_type": "code",
   "execution_count": 1,
   "id": "b3727147",
   "metadata": {},
   "outputs": [],
   "source": [
    "import numpy as np\n",
    "import pandas as pd\n",
    "import seaborn as sns\n",
    "import matplotlib.pyplot as plt\n",
    "import sklearn"
   ]
  },
  {
   "cell_type": "code",
   "execution_count": 2,
   "id": "f9263072",
   "metadata": {},
   "outputs": [],
   "source": [
    "df_train = pd.read_csv('train.csv')"
   ]
  },
  {
   "cell_type": "code",
   "execution_count": 3,
   "id": "eb77f539",
   "metadata": {},
   "outputs": [
    {
     "data": {
      "text/html": [
       "<div>\n",
       "<style scoped>\n",
       "    .dataframe tbody tr th:only-of-type {\n",
       "        vertical-align: middle;\n",
       "    }\n",
       "\n",
       "    .dataframe tbody tr th {\n",
       "        vertical-align: top;\n",
       "    }\n",
       "\n",
       "    .dataframe thead th {\n",
       "        text-align: right;\n",
       "    }\n",
       "</style>\n",
       "<table border=\"1\" class=\"dataframe\">\n",
       "  <thead>\n",
       "    <tr style=\"text-align: right;\">\n",
       "      <th></th>\n",
       "      <th>PassengerId</th>\n",
       "      <th>HomePlanet</th>\n",
       "      <th>CryoSleep</th>\n",
       "      <th>Cabin</th>\n",
       "      <th>Destination</th>\n",
       "      <th>Age</th>\n",
       "      <th>VIP</th>\n",
       "      <th>RoomService</th>\n",
       "      <th>FoodCourt</th>\n",
       "      <th>ShoppingMall</th>\n",
       "      <th>Spa</th>\n",
       "      <th>VRDeck</th>\n",
       "      <th>Name</th>\n",
       "      <th>Transported</th>\n",
       "    </tr>\n",
       "  </thead>\n",
       "  <tbody>\n",
       "    <tr>\n",
       "      <th>0</th>\n",
       "      <td>0001_01</td>\n",
       "      <td>Europa</td>\n",
       "      <td>False</td>\n",
       "      <td>B/0/P</td>\n",
       "      <td>TRAPPIST-1e</td>\n",
       "      <td>39.0</td>\n",
       "      <td>False</td>\n",
       "      <td>0.0</td>\n",
       "      <td>0.0</td>\n",
       "      <td>0.0</td>\n",
       "      <td>0.0</td>\n",
       "      <td>0.0</td>\n",
       "      <td>Maham Ofracculy</td>\n",
       "      <td>False</td>\n",
       "    </tr>\n",
       "    <tr>\n",
       "      <th>1</th>\n",
       "      <td>0002_01</td>\n",
       "      <td>Earth</td>\n",
       "      <td>False</td>\n",
       "      <td>F/0/S</td>\n",
       "      <td>TRAPPIST-1e</td>\n",
       "      <td>24.0</td>\n",
       "      <td>False</td>\n",
       "      <td>109.0</td>\n",
       "      <td>9.0</td>\n",
       "      <td>25.0</td>\n",
       "      <td>549.0</td>\n",
       "      <td>44.0</td>\n",
       "      <td>Juanna Vines</td>\n",
       "      <td>True</td>\n",
       "    </tr>\n",
       "    <tr>\n",
       "      <th>2</th>\n",
       "      <td>0003_01</td>\n",
       "      <td>Europa</td>\n",
       "      <td>False</td>\n",
       "      <td>A/0/S</td>\n",
       "      <td>TRAPPIST-1e</td>\n",
       "      <td>58.0</td>\n",
       "      <td>True</td>\n",
       "      <td>43.0</td>\n",
       "      <td>3576.0</td>\n",
       "      <td>0.0</td>\n",
       "      <td>6715.0</td>\n",
       "      <td>49.0</td>\n",
       "      <td>Altark Susent</td>\n",
       "      <td>False</td>\n",
       "    </tr>\n",
       "    <tr>\n",
       "      <th>3</th>\n",
       "      <td>0003_02</td>\n",
       "      <td>Europa</td>\n",
       "      <td>False</td>\n",
       "      <td>A/0/S</td>\n",
       "      <td>TRAPPIST-1e</td>\n",
       "      <td>33.0</td>\n",
       "      <td>False</td>\n",
       "      <td>0.0</td>\n",
       "      <td>1283.0</td>\n",
       "      <td>371.0</td>\n",
       "      <td>3329.0</td>\n",
       "      <td>193.0</td>\n",
       "      <td>Solam Susent</td>\n",
       "      <td>False</td>\n",
       "    </tr>\n",
       "    <tr>\n",
       "      <th>4</th>\n",
       "      <td>0004_01</td>\n",
       "      <td>Earth</td>\n",
       "      <td>False</td>\n",
       "      <td>F/1/S</td>\n",
       "      <td>TRAPPIST-1e</td>\n",
       "      <td>16.0</td>\n",
       "      <td>False</td>\n",
       "      <td>303.0</td>\n",
       "      <td>70.0</td>\n",
       "      <td>151.0</td>\n",
       "      <td>565.0</td>\n",
       "      <td>2.0</td>\n",
       "      <td>Willy Santantines</td>\n",
       "      <td>True</td>\n",
       "    </tr>\n",
       "    <tr>\n",
       "      <th>5</th>\n",
       "      <td>0005_01</td>\n",
       "      <td>Earth</td>\n",
       "      <td>False</td>\n",
       "      <td>F/0/P</td>\n",
       "      <td>PSO J318.5-22</td>\n",
       "      <td>44.0</td>\n",
       "      <td>False</td>\n",
       "      <td>0.0</td>\n",
       "      <td>483.0</td>\n",
       "      <td>0.0</td>\n",
       "      <td>291.0</td>\n",
       "      <td>0.0</td>\n",
       "      <td>Sandie Hinetthews</td>\n",
       "      <td>True</td>\n",
       "    </tr>\n",
       "    <tr>\n",
       "      <th>6</th>\n",
       "      <td>0006_01</td>\n",
       "      <td>Earth</td>\n",
       "      <td>False</td>\n",
       "      <td>F/2/S</td>\n",
       "      <td>TRAPPIST-1e</td>\n",
       "      <td>26.0</td>\n",
       "      <td>False</td>\n",
       "      <td>42.0</td>\n",
       "      <td>1539.0</td>\n",
       "      <td>3.0</td>\n",
       "      <td>0.0</td>\n",
       "      <td>0.0</td>\n",
       "      <td>Billex Jacostaffey</td>\n",
       "      <td>True</td>\n",
       "    </tr>\n",
       "    <tr>\n",
       "      <th>7</th>\n",
       "      <td>0006_02</td>\n",
       "      <td>Earth</td>\n",
       "      <td>True</td>\n",
       "      <td>G/0/S</td>\n",
       "      <td>TRAPPIST-1e</td>\n",
       "      <td>28.0</td>\n",
       "      <td>False</td>\n",
       "      <td>0.0</td>\n",
       "      <td>0.0</td>\n",
       "      <td>0.0</td>\n",
       "      <td>0.0</td>\n",
       "      <td>NaN</td>\n",
       "      <td>Candra Jacostaffey</td>\n",
       "      <td>True</td>\n",
       "    </tr>\n",
       "    <tr>\n",
       "      <th>8</th>\n",
       "      <td>0007_01</td>\n",
       "      <td>Earth</td>\n",
       "      <td>False</td>\n",
       "      <td>F/3/S</td>\n",
       "      <td>TRAPPIST-1e</td>\n",
       "      <td>35.0</td>\n",
       "      <td>False</td>\n",
       "      <td>0.0</td>\n",
       "      <td>785.0</td>\n",
       "      <td>17.0</td>\n",
       "      <td>216.0</td>\n",
       "      <td>0.0</td>\n",
       "      <td>Andona Beston</td>\n",
       "      <td>True</td>\n",
       "    </tr>\n",
       "    <tr>\n",
       "      <th>9</th>\n",
       "      <td>0008_01</td>\n",
       "      <td>Europa</td>\n",
       "      <td>True</td>\n",
       "      <td>B/1/P</td>\n",
       "      <td>55 Cancri e</td>\n",
       "      <td>14.0</td>\n",
       "      <td>False</td>\n",
       "      <td>0.0</td>\n",
       "      <td>0.0</td>\n",
       "      <td>0.0</td>\n",
       "      <td>0.0</td>\n",
       "      <td>0.0</td>\n",
       "      <td>Erraiam Flatic</td>\n",
       "      <td>True</td>\n",
       "    </tr>\n",
       "  </tbody>\n",
       "</table>\n",
       "</div>"
      ],
      "text/plain": [
       "  PassengerId HomePlanet CryoSleep  Cabin    Destination   Age    VIP  \\\n",
       "0     0001_01     Europa     False  B/0/P    TRAPPIST-1e  39.0  False   \n",
       "1     0002_01      Earth     False  F/0/S    TRAPPIST-1e  24.0  False   \n",
       "2     0003_01     Europa     False  A/0/S    TRAPPIST-1e  58.0   True   \n",
       "3     0003_02     Europa     False  A/0/S    TRAPPIST-1e  33.0  False   \n",
       "4     0004_01      Earth     False  F/1/S    TRAPPIST-1e  16.0  False   \n",
       "5     0005_01      Earth     False  F/0/P  PSO J318.5-22  44.0  False   \n",
       "6     0006_01      Earth     False  F/2/S    TRAPPIST-1e  26.0  False   \n",
       "7     0006_02      Earth      True  G/0/S    TRAPPIST-1e  28.0  False   \n",
       "8     0007_01      Earth     False  F/3/S    TRAPPIST-1e  35.0  False   \n",
       "9     0008_01     Europa      True  B/1/P    55 Cancri e  14.0  False   \n",
       "\n",
       "   RoomService  FoodCourt  ShoppingMall     Spa  VRDeck                Name  \\\n",
       "0          0.0        0.0           0.0     0.0     0.0     Maham Ofracculy   \n",
       "1        109.0        9.0          25.0   549.0    44.0        Juanna Vines   \n",
       "2         43.0     3576.0           0.0  6715.0    49.0       Altark Susent   \n",
       "3          0.0     1283.0         371.0  3329.0   193.0        Solam Susent   \n",
       "4        303.0       70.0         151.0   565.0     2.0   Willy Santantines   \n",
       "5          0.0      483.0           0.0   291.0     0.0   Sandie Hinetthews   \n",
       "6         42.0     1539.0           3.0     0.0     0.0  Billex Jacostaffey   \n",
       "7          0.0        0.0           0.0     0.0     NaN  Candra Jacostaffey   \n",
       "8          0.0      785.0          17.0   216.0     0.0       Andona Beston   \n",
       "9          0.0        0.0           0.0     0.0     0.0      Erraiam Flatic   \n",
       "\n",
       "   Transported  \n",
       "0        False  \n",
       "1         True  \n",
       "2        False  \n",
       "3        False  \n",
       "4         True  \n",
       "5         True  \n",
       "6         True  \n",
       "7         True  \n",
       "8         True  \n",
       "9         True  "
      ]
     },
     "execution_count": 3,
     "metadata": {},
     "output_type": "execute_result"
    }
   ],
   "source": [
    "df_train.head(10)"
   ]
  },
  {
   "cell_type": "code",
   "execution_count": 4,
   "id": "e31fe4e2",
   "metadata": {},
   "outputs": [
    {
     "name": "stdout",
     "output_type": "stream",
     "text": [
      "<class 'pandas.core.frame.DataFrame'>\n",
      "RangeIndex: 8693 entries, 0 to 8692\n",
      "Data columns (total 14 columns):\n",
      " #   Column        Non-Null Count  Dtype  \n",
      "---  ------        --------------  -----  \n",
      " 0   PassengerId   8693 non-null   object \n",
      " 1   HomePlanet    8492 non-null   object \n",
      " 2   CryoSleep     8476 non-null   object \n",
      " 3   Cabin         8494 non-null   object \n",
      " 4   Destination   8511 non-null   object \n",
      " 5   Age           8514 non-null   float64\n",
      " 6   VIP           8490 non-null   object \n",
      " 7   RoomService   8512 non-null   float64\n",
      " 8   FoodCourt     8510 non-null   float64\n",
      " 9   ShoppingMall  8485 non-null   float64\n",
      " 10  Spa           8510 non-null   float64\n",
      " 11  VRDeck        8505 non-null   float64\n",
      " 12  Name          8493 non-null   object \n",
      " 13  Transported   8693 non-null   bool   \n",
      "dtypes: bool(1), float64(6), object(7)\n",
      "memory usage: 891.5+ KB\n"
     ]
    }
   ],
   "source": [
    "df_train.info()"
   ]
  },
  {
   "cell_type": "code",
   "execution_count": 5,
   "id": "4e99a9ff",
   "metadata": {},
   "outputs": [
    {
     "data": {
      "text/plain": [
       "(8693, 14)"
      ]
     },
     "execution_count": 5,
     "metadata": {},
     "output_type": "execute_result"
    }
   ],
   "source": [
    "df_train.shape"
   ]
  },
  {
   "cell_type": "code",
   "execution_count": 6,
   "id": "4cb5bea0",
   "metadata": {},
   "outputs": [
    {
     "data": {
      "text/html": [
       "<div>\n",
       "<style scoped>\n",
       "    .dataframe tbody tr th:only-of-type {\n",
       "        vertical-align: middle;\n",
       "    }\n",
       "\n",
       "    .dataframe tbody tr th {\n",
       "        vertical-align: top;\n",
       "    }\n",
       "\n",
       "    .dataframe thead th {\n",
       "        text-align: right;\n",
       "    }\n",
       "</style>\n",
       "<table border=\"1\" class=\"dataframe\">\n",
       "  <thead>\n",
       "    <tr style=\"text-align: right;\">\n",
       "      <th></th>\n",
       "      <th>Age</th>\n",
       "      <th>RoomService</th>\n",
       "      <th>FoodCourt</th>\n",
       "      <th>ShoppingMall</th>\n",
       "      <th>Spa</th>\n",
       "      <th>VRDeck</th>\n",
       "    </tr>\n",
       "  </thead>\n",
       "  <tbody>\n",
       "    <tr>\n",
       "      <th>count</th>\n",
       "      <td>8514.000000</td>\n",
       "      <td>8512.000000</td>\n",
       "      <td>8510.000000</td>\n",
       "      <td>8485.000000</td>\n",
       "      <td>8510.000000</td>\n",
       "      <td>8505.000000</td>\n",
       "    </tr>\n",
       "    <tr>\n",
       "      <th>mean</th>\n",
       "      <td>28.827930</td>\n",
       "      <td>224.687617</td>\n",
       "      <td>458.077203</td>\n",
       "      <td>173.729169</td>\n",
       "      <td>311.138778</td>\n",
       "      <td>304.854791</td>\n",
       "    </tr>\n",
       "    <tr>\n",
       "      <th>std</th>\n",
       "      <td>14.489021</td>\n",
       "      <td>666.717663</td>\n",
       "      <td>1611.489240</td>\n",
       "      <td>604.696458</td>\n",
       "      <td>1136.705535</td>\n",
       "      <td>1145.717189</td>\n",
       "    </tr>\n",
       "    <tr>\n",
       "      <th>min</th>\n",
       "      <td>0.000000</td>\n",
       "      <td>0.000000</td>\n",
       "      <td>0.000000</td>\n",
       "      <td>0.000000</td>\n",
       "      <td>0.000000</td>\n",
       "      <td>0.000000</td>\n",
       "    </tr>\n",
       "    <tr>\n",
       "      <th>25%</th>\n",
       "      <td>19.000000</td>\n",
       "      <td>0.000000</td>\n",
       "      <td>0.000000</td>\n",
       "      <td>0.000000</td>\n",
       "      <td>0.000000</td>\n",
       "      <td>0.000000</td>\n",
       "    </tr>\n",
       "    <tr>\n",
       "      <th>50%</th>\n",
       "      <td>27.000000</td>\n",
       "      <td>0.000000</td>\n",
       "      <td>0.000000</td>\n",
       "      <td>0.000000</td>\n",
       "      <td>0.000000</td>\n",
       "      <td>0.000000</td>\n",
       "    </tr>\n",
       "    <tr>\n",
       "      <th>75%</th>\n",
       "      <td>38.000000</td>\n",
       "      <td>47.000000</td>\n",
       "      <td>76.000000</td>\n",
       "      <td>27.000000</td>\n",
       "      <td>59.000000</td>\n",
       "      <td>46.000000</td>\n",
       "    </tr>\n",
       "    <tr>\n",
       "      <th>max</th>\n",
       "      <td>79.000000</td>\n",
       "      <td>14327.000000</td>\n",
       "      <td>29813.000000</td>\n",
       "      <td>23492.000000</td>\n",
       "      <td>22408.000000</td>\n",
       "      <td>24133.000000</td>\n",
       "    </tr>\n",
       "  </tbody>\n",
       "</table>\n",
       "</div>"
      ],
      "text/plain": [
       "               Age   RoomService     FoodCourt  ShoppingMall           Spa  \\\n",
       "count  8514.000000   8512.000000   8510.000000   8485.000000   8510.000000   \n",
       "mean     28.827930    224.687617    458.077203    173.729169    311.138778   \n",
       "std      14.489021    666.717663   1611.489240    604.696458   1136.705535   \n",
       "min       0.000000      0.000000      0.000000      0.000000      0.000000   \n",
       "25%      19.000000      0.000000      0.000000      0.000000      0.000000   \n",
       "50%      27.000000      0.000000      0.000000      0.000000      0.000000   \n",
       "75%      38.000000     47.000000     76.000000     27.000000     59.000000   \n",
       "max      79.000000  14327.000000  29813.000000  23492.000000  22408.000000   \n",
       "\n",
       "             VRDeck  \n",
       "count   8505.000000  \n",
       "mean     304.854791  \n",
       "std     1145.717189  \n",
       "min        0.000000  \n",
       "25%        0.000000  \n",
       "50%        0.000000  \n",
       "75%       46.000000  \n",
       "max    24133.000000  "
      ]
     },
     "execution_count": 6,
     "metadata": {},
     "output_type": "execute_result"
    }
   ],
   "source": [
    "df_train.describe()"
   ]
  },
  {
   "cell_type": "code",
   "execution_count": 7,
   "id": "fd3cab12",
   "metadata": {},
   "outputs": [
    {
     "name": "stdout",
     "output_type": "stream",
     "text": [
      "There is a total number of 0.0 % null values in PassengerId\n",
      "There is a total number of 2.312205222592891 % null values in HomePlanet\n",
      "There is a total number of 2.4962613597147127 % null values in CryoSleep\n",
      "There is a total number of 2.289198205452663 % null values in Cabin\n",
      "There is a total number of 2.093638559760727 % null values in Destination\n",
      "There is a total number of 2.0591280340503855 % null values in Age\n",
      "There is a total number of 2.3352122397331185 % null values in VIP\n",
      "There is a total number of 2.082135051190613 % null values in RoomService\n",
      "There is a total number of 2.105142068330841 % null values in FoodCourt\n",
      "There is a total number of 2.392729782583688 % null values in ShoppingMall\n",
      "There is a total number of 2.105142068330841 % null values in Spa\n",
      "There is a total number of 2.1626596111814105 % null values in VRDeck\n",
      "There is a total number of 2.300701714022777 % null values in Name\n",
      "There is a total number of 0.0 % null values in Transported\n"
     ]
    }
   ],
   "source": [
    "#Cleaning the Data\n",
    "#Checking for null values:\n",
    "for feature in df_train.columns:\n",
    "    percentage_of_null_values = df_train[feature].isnull().sum()/len(df_train[feature])*100\n",
    "    print(f'There is a total number of {percentage_of_null_values} % null values in {feature}')"
   ]
  },
  {
   "cell_type": "code",
   "execution_count": 8,
   "id": "4799290c",
   "metadata": {},
   "outputs": [],
   "source": [
    "#Handling missing values:\n",
    "from sklearn.impute import SimpleImputer\n",
    "for feature in df_train.columns:\n",
    "    if df_train[feature].dtypes == 'object':\n",
    "        imp = SimpleImputer(missing_values = np.nan, strategy = 'most_frequent')\n",
    "        imp.fit(df_train[[feature]])\n",
    "        df_train[[feature]] = imp.transform(df_train[[feature]])\n",
    "    if df_train[feature].dtypes == 'float64':\n",
    "        imp2 = SimpleImputer(missing_values = np.nan, strategy = 'median')\n",
    "        imp2.fit(df_train[[feature]])\n",
    "        df_train[[feature]] = imp2.transform(df_train[[feature]])"
   ]
  },
  {
   "cell_type": "code",
   "execution_count": 9,
   "id": "7add1599",
   "metadata": {},
   "outputs": [
    {
     "name": "stdout",
     "output_type": "stream",
     "text": [
      "There is a total number of 0.0 % null values in PassengerId\n",
      "There is a total number of 0.0 % null values in HomePlanet\n",
      "There is a total number of 0.0 % null values in CryoSleep\n",
      "There is a total number of 0.0 % null values in Cabin\n",
      "There is a total number of 0.0 % null values in Destination\n",
      "There is a total number of 0.0 % null values in Age\n",
      "There is a total number of 0.0 % null values in VIP\n",
      "There is a total number of 0.0 % null values in RoomService\n",
      "There is a total number of 0.0 % null values in FoodCourt\n",
      "There is a total number of 0.0 % null values in ShoppingMall\n",
      "There is a total number of 0.0 % null values in Spa\n",
      "There is a total number of 0.0 % null values in VRDeck\n",
      "There is a total number of 0.0 % null values in Name\n",
      "There is a total number of 0.0 % null values in Transported\n"
     ]
    }
   ],
   "source": [
    "#Rechecking for any null values\n",
    "for feature in df_train.columns:\n",
    "    percentage_of_null_values = df_train[feature].isnull().sum()/len(df_train[feature])*100\n",
    "    print(f'There is a total number of {percentage_of_null_values} % null values in {feature}')"
   ]
  },
  {
   "cell_type": "code",
   "execution_count": 10,
   "id": "78dddb17",
   "metadata": {},
   "outputs": [
    {
     "name": "stdout",
     "output_type": "stream",
     "text": [
      "The number of unique values in PassengerId is 8693\n",
      "The number of unique values in HomePlanet is 3\n",
      "The number of unique values in CryoSleep is 2\n",
      "The number of unique values in Cabin is 6560\n",
      "The number of unique values in Destination is 3\n",
      "The number of unique values in Age is 80\n",
      "The number of unique values in VIP is 2\n",
      "The number of unique values in RoomService is 1273\n",
      "The number of unique values in FoodCourt is 1507\n",
      "The number of unique values in ShoppingMall is 1115\n",
      "The number of unique values in Spa is 1327\n",
      "The number of unique values in VRDeck is 1306\n",
      "The number of unique values in Name is 8473\n",
      "The number of unique values in Transported is 2\n"
     ]
    }
   ],
   "source": [
    "#Unique values Checking:\n",
    "for feature in df_train.columns:\n",
    "    unique_values = df_train[feature].nunique()\n",
    "    print(f'The number of unique values in {feature} is {unique_values}')"
   ]
  },
  {
   "cell_type": "code",
   "execution_count": 11,
   "id": "b6c30ca7",
   "metadata": {},
   "outputs": [],
   "source": [
    "#Dropping unneccessarily shits:\n",
    "df_train = df_train.drop_duplicates(subset = 'PassengerId')"
   ]
  },
  {
   "cell_type": "code",
   "execution_count": 12,
   "id": "4e218152",
   "metadata": {},
   "outputs": [],
   "source": [
    "df_train = df_train.drop(columns = 'PassengerId')"
   ]
  },
  {
   "cell_type": "code",
   "execution_count": 13,
   "id": "56ca6f79",
   "metadata": {},
   "outputs": [
    {
     "data": {
      "text/html": [
       "<div>\n",
       "<style scoped>\n",
       "    .dataframe tbody tr th:only-of-type {\n",
       "        vertical-align: middle;\n",
       "    }\n",
       "\n",
       "    .dataframe tbody tr th {\n",
       "        vertical-align: top;\n",
       "    }\n",
       "\n",
       "    .dataframe thead th {\n",
       "        text-align: right;\n",
       "    }\n",
       "</style>\n",
       "<table border=\"1\" class=\"dataframe\">\n",
       "  <thead>\n",
       "    <tr style=\"text-align: right;\">\n",
       "      <th></th>\n",
       "      <th>HomePlanet</th>\n",
       "      <th>CryoSleep</th>\n",
       "      <th>Cabin</th>\n",
       "      <th>Destination</th>\n",
       "      <th>Age</th>\n",
       "      <th>VIP</th>\n",
       "      <th>RoomService</th>\n",
       "      <th>FoodCourt</th>\n",
       "      <th>ShoppingMall</th>\n",
       "      <th>Spa</th>\n",
       "      <th>VRDeck</th>\n",
       "      <th>Name</th>\n",
       "      <th>Transported</th>\n",
       "    </tr>\n",
       "  </thead>\n",
       "  <tbody>\n",
       "    <tr>\n",
       "      <th>58</th>\n",
       "      <td>Mars</td>\n",
       "      <td>True</td>\n",
       "      <td>F/14/S</td>\n",
       "      <td>TRAPPIST-1e</td>\n",
       "      <td>15.0</td>\n",
       "      <td>False</td>\n",
       "      <td>0.0</td>\n",
       "      <td>0.0</td>\n",
       "      <td>0.0</td>\n",
       "      <td>0.0</td>\n",
       "      <td>0.0</td>\n",
       "      <td>Alraium Disivering</td>\n",
       "      <td>True</td>\n",
       "    </tr>\n",
       "    <tr>\n",
       "      <th>65</th>\n",
       "      <td>Earth</td>\n",
       "      <td>False</td>\n",
       "      <td>F/16/S</td>\n",
       "      <td>TRAPPIST-1e</td>\n",
       "      <td>42.0</td>\n",
       "      <td>False</td>\n",
       "      <td>887.0</td>\n",
       "      <td>0.0</td>\n",
       "      <td>9.0</td>\n",
       "      <td>6.0</td>\n",
       "      <td>0.0</td>\n",
       "      <td>Alraium Disivering</td>\n",
       "      <td>True</td>\n",
       "    </tr>\n",
       "    <tr>\n",
       "      <th>77</th>\n",
       "      <td>Mars</td>\n",
       "      <td>False</td>\n",
       "      <td>F/16/P</td>\n",
       "      <td>TRAPPIST-1e</td>\n",
       "      <td>8.0</td>\n",
       "      <td>False</td>\n",
       "      <td>0.0</td>\n",
       "      <td>0.0</td>\n",
       "      <td>0.0</td>\n",
       "      <td>0.0</td>\n",
       "      <td>0.0</td>\n",
       "      <td>Alraium Disivering</td>\n",
       "      <td>True</td>\n",
       "    </tr>\n",
       "    <tr>\n",
       "      <th>101</th>\n",
       "      <td>Earth</td>\n",
       "      <td>False</td>\n",
       "      <td>G/19/S</td>\n",
       "      <td>TRAPPIST-1e</td>\n",
       "      <td>31.0</td>\n",
       "      <td>False</td>\n",
       "      <td>562.0</td>\n",
       "      <td>0.0</td>\n",
       "      <td>326.0</td>\n",
       "      <td>0.0</td>\n",
       "      <td>0.0</td>\n",
       "      <td>Alraium Disivering</td>\n",
       "      <td>False</td>\n",
       "    </tr>\n",
       "    <tr>\n",
       "      <th>126</th>\n",
       "      <td>Earth</td>\n",
       "      <td>False</td>\n",
       "      <td>G/23/S</td>\n",
       "      <td>PSO J318.5-22</td>\n",
       "      <td>47.0</td>\n",
       "      <td>False</td>\n",
       "      <td>97.0</td>\n",
       "      <td>418.0</td>\n",
       "      <td>126.0</td>\n",
       "      <td>25.0</td>\n",
       "      <td>55.0</td>\n",
       "      <td>Alraium Disivering</td>\n",
       "      <td>False</td>\n",
       "    </tr>\n",
       "    <tr>\n",
       "      <th>165</th>\n",
       "      <td>Earth</td>\n",
       "      <td>True</td>\n",
       "      <td>G/32/S</td>\n",
       "      <td>55 Cancri e</td>\n",
       "      <td>11.0</td>\n",
       "      <td>False</td>\n",
       "      <td>0.0</td>\n",
       "      <td>0.0</td>\n",
       "      <td>0.0</td>\n",
       "      <td>0.0</td>\n",
       "      <td>0.0</td>\n",
       "      <td>Alraium Disivering</td>\n",
       "      <td>False</td>\n",
       "    </tr>\n",
       "    <tr>\n",
       "      <th>297</th>\n",
       "      <td>Europa</td>\n",
       "      <td>False</td>\n",
       "      <td>C/14/S</td>\n",
       "      <td>TRAPPIST-1e</td>\n",
       "      <td>32.0</td>\n",
       "      <td>False</td>\n",
       "      <td>247.0</td>\n",
       "      <td>4651.0</td>\n",
       "      <td>0.0</td>\n",
       "      <td>46.0</td>\n",
       "      <td>202.0</td>\n",
       "      <td>Alraium Disivering</td>\n",
       "      <td>True</td>\n",
       "    </tr>\n",
       "    <tr>\n",
       "      <th>305</th>\n",
       "      <td>Mars</td>\n",
       "      <td>False</td>\n",
       "      <td>F/63/S</td>\n",
       "      <td>55 Cancri e</td>\n",
       "      <td>0.0</td>\n",
       "      <td>False</td>\n",
       "      <td>0.0</td>\n",
       "      <td>0.0</td>\n",
       "      <td>0.0</td>\n",
       "      <td>0.0</td>\n",
       "      <td>0.0</td>\n",
       "      <td>Alraium Disivering</td>\n",
       "      <td>True</td>\n",
       "    </tr>\n",
       "    <tr>\n",
       "      <th>331</th>\n",
       "      <td>Earth</td>\n",
       "      <td>False</td>\n",
       "      <td>F/85/P</td>\n",
       "      <td>TRAPPIST-1e</td>\n",
       "      <td>24.0</td>\n",
       "      <td>False</td>\n",
       "      <td>0.0</td>\n",
       "      <td>5.0</td>\n",
       "      <td>0.0</td>\n",
       "      <td>2766.0</td>\n",
       "      <td>0.0</td>\n",
       "      <td>Alraium Disivering</td>\n",
       "      <td>False</td>\n",
       "    </tr>\n",
       "    <tr>\n",
       "      <th>411</th>\n",
       "      <td>Earth</td>\n",
       "      <td>True</td>\n",
       "      <td>G/71/P</td>\n",
       "      <td>PSO J318.5-22</td>\n",
       "      <td>32.0</td>\n",
       "      <td>False</td>\n",
       "      <td>0.0</td>\n",
       "      <td>0.0</td>\n",
       "      <td>0.0</td>\n",
       "      <td>0.0</td>\n",
       "      <td>0.0</td>\n",
       "      <td>Alraium Disivering</td>\n",
       "      <td>True</td>\n",
       "    </tr>\n",
       "  </tbody>\n",
       "</table>\n",
       "</div>"
      ],
      "text/plain": [
       "    HomePlanet CryoSleep   Cabin    Destination   Age    VIP  RoomService  \\\n",
       "58        Mars      True  F/14/S    TRAPPIST-1e  15.0  False          0.0   \n",
       "65       Earth     False  F/16/S    TRAPPIST-1e  42.0  False        887.0   \n",
       "77        Mars     False  F/16/P    TRAPPIST-1e   8.0  False          0.0   \n",
       "101      Earth     False  G/19/S    TRAPPIST-1e  31.0  False        562.0   \n",
       "126      Earth     False  G/23/S  PSO J318.5-22  47.0  False         97.0   \n",
       "165      Earth      True  G/32/S    55 Cancri e  11.0  False          0.0   \n",
       "297     Europa     False  C/14/S    TRAPPIST-1e  32.0  False        247.0   \n",
       "305       Mars     False  F/63/S    55 Cancri e   0.0  False          0.0   \n",
       "331      Earth     False  F/85/P    TRAPPIST-1e  24.0  False          0.0   \n",
       "411      Earth      True  G/71/P  PSO J318.5-22  32.0  False          0.0   \n",
       "\n",
       "     FoodCourt  ShoppingMall     Spa  VRDeck                Name  Transported  \n",
       "58         0.0           0.0     0.0     0.0  Alraium Disivering         True  \n",
       "65         0.0           9.0     6.0     0.0  Alraium Disivering         True  \n",
       "77         0.0           0.0     0.0     0.0  Alraium Disivering         True  \n",
       "101        0.0         326.0     0.0     0.0  Alraium Disivering        False  \n",
       "126      418.0         126.0    25.0    55.0  Alraium Disivering        False  \n",
       "165        0.0           0.0     0.0     0.0  Alraium Disivering        False  \n",
       "297     4651.0           0.0    46.0   202.0  Alraium Disivering         True  \n",
       "305        0.0           0.0     0.0     0.0  Alraium Disivering         True  \n",
       "331        5.0           0.0  2766.0     0.0  Alraium Disivering        False  \n",
       "411        0.0           0.0     0.0     0.0  Alraium Disivering         True  "
      ]
     },
     "execution_count": 13,
     "metadata": {},
     "output_type": "execute_result"
    }
   ],
   "source": [
    "df_train.loc[df_train['Name'].duplicated() == True].head(10)"
   ]
  },
  {
   "cell_type": "code",
   "execution_count": 14,
   "id": "c3b0f9b4",
   "metadata": {},
   "outputs": [],
   "source": [
    "df_train.drop(df_train[(df_train['RoomService'] == 0) & (df_train['FoodCourt'] == 0) & (df_train['ShoppingMall'] == 0) & (df_train['Name'] == 'Alraium Disivering')].index, inplace = True)"
   ]
  },
  {
   "cell_type": "code",
   "execution_count": 15,
   "id": "6c5f31dc",
   "metadata": {},
   "outputs": [],
   "source": [
    "df_train = df_train.drop(columns = 'Name')"
   ]
  },
  {
   "cell_type": "code",
   "execution_count": 16,
   "id": "d2d44b18",
   "metadata": {},
   "outputs": [],
   "source": [
    "#FeatureEngineering:\n",
    "#Addmorevariances\n",
    "df_train['CabinDeck'] = df_train['Cabin'].str[0] \n",
    "\n",
    "df_train['CabinSide'] = df_train['Cabin'].str[-1]\n",
    "\n",
    "df_train = df_train.drop(columns = 'Cabin')\n"
   ]
  },
  {
   "cell_type": "code",
   "execution_count": 17,
   "id": "027ebbb6",
   "metadata": {},
   "outputs": [],
   "source": [
    "labels = ['Young People', 'Millenials', 'Middle-Ages', 'Old People']\n",
    "\n",
    "df_train['AgeGroup'] = pd.cut(df_train.Age, bins = 4, labels = labels, include_lowest = True)\n",
    "\n",
    "df_train['AgeGroup'] = df_train['AgeGroup'].astype('object')\n",
    "\n",
    "df_train = df_train.drop(columns = 'Age')"
   ]
  },
  {
   "cell_type": "code",
   "execution_count": 18,
   "id": "349b94be",
   "metadata": {},
   "outputs": [],
   "source": [
    "#Seperating numerical variables and categorical variables:\n",
    "numerical_variables = []\n",
    "categorical_variables = []\n",
    "for feature in df_train.columns:\n",
    "    if df_train[feature].dtypes == 'object':\n",
    "        categorical_variables.append(feature)\n",
    "    elif df_train[feature].dtypes == 'float64':\n",
    "        numerical_variables.append(feature)"
   ]
  },
  {
   "cell_type": "code",
   "execution_count": 19,
   "id": "a38296b0",
   "metadata": {},
   "outputs": [
    {
     "name": "stdout",
     "output_type": "stream",
     "text": [
      "There are ['Europa' 'Earth' 'Mars'] in HomePlanet\n",
      "There are [False True] in CryoSleep\n",
      "There are ['TRAPPIST-1e' 'PSO J318.5-22' '55 Cancri e'] in Destination\n",
      "There are [False True] in VIP\n",
      "There are ['B' 'F' 'A' 'G' 'E' 'D' 'C' 'T'] in CabinDeck\n",
      "There are ['P' 'S'] in CabinSide\n",
      "There are ['Millenials' 'Middle-Ages' 'Young People' 'Old People'] in AgeGroup\n"
     ]
    }
   ],
   "source": [
    "for cat in categorical_variables:\n",
    "    uniques = df_train[cat].unique()\n",
    "    print(f'There are {uniques} in {cat}')"
   ]
  },
  {
   "cell_type": "code",
   "execution_count": 20,
   "id": "7f803f6f",
   "metadata": {},
   "outputs": [
    {
     "data": {
      "text/html": [
       "<div>\n",
       "<style scoped>\n",
       "    .dataframe tbody tr th:only-of-type {\n",
       "        vertical-align: middle;\n",
       "    }\n",
       "\n",
       "    .dataframe tbody tr th {\n",
       "        vertical-align: top;\n",
       "    }\n",
       "\n",
       "    .dataframe thead th {\n",
       "        text-align: right;\n",
       "    }\n",
       "</style>\n",
       "<table border=\"1\" class=\"dataframe\">\n",
       "  <thead>\n",
       "    <tr style=\"text-align: right;\">\n",
       "      <th></th>\n",
       "      <th>HomePlanet</th>\n",
       "      <th>CryoSleep</th>\n",
       "      <th>Destination</th>\n",
       "      <th>VIP</th>\n",
       "      <th>RoomService</th>\n",
       "      <th>FoodCourt</th>\n",
       "      <th>ShoppingMall</th>\n",
       "      <th>Spa</th>\n",
       "      <th>VRDeck</th>\n",
       "      <th>Transported</th>\n",
       "      <th>CabinDeck</th>\n",
       "      <th>CabinSide</th>\n",
       "      <th>AgeGroup</th>\n",
       "    </tr>\n",
       "  </thead>\n",
       "  <tbody>\n",
       "    <tr>\n",
       "      <th>0</th>\n",
       "      <td>Europa</td>\n",
       "      <td>False</td>\n",
       "      <td>TRAPPIST-1e</td>\n",
       "      <td>False</td>\n",
       "      <td>0.0</td>\n",
       "      <td>0.0</td>\n",
       "      <td>0.0</td>\n",
       "      <td>0.0</td>\n",
       "      <td>0.0</td>\n",
       "      <td>False</td>\n",
       "      <td>B</td>\n",
       "      <td>P</td>\n",
       "      <td>Millenials</td>\n",
       "    </tr>\n",
       "    <tr>\n",
       "      <th>1</th>\n",
       "      <td>Earth</td>\n",
       "      <td>False</td>\n",
       "      <td>TRAPPIST-1e</td>\n",
       "      <td>False</td>\n",
       "      <td>109.0</td>\n",
       "      <td>9.0</td>\n",
       "      <td>25.0</td>\n",
       "      <td>549.0</td>\n",
       "      <td>44.0</td>\n",
       "      <td>True</td>\n",
       "      <td>F</td>\n",
       "      <td>S</td>\n",
       "      <td>Millenials</td>\n",
       "    </tr>\n",
       "    <tr>\n",
       "      <th>2</th>\n",
       "      <td>Europa</td>\n",
       "      <td>False</td>\n",
       "      <td>TRAPPIST-1e</td>\n",
       "      <td>True</td>\n",
       "      <td>43.0</td>\n",
       "      <td>3576.0</td>\n",
       "      <td>0.0</td>\n",
       "      <td>6715.0</td>\n",
       "      <td>49.0</td>\n",
       "      <td>False</td>\n",
       "      <td>A</td>\n",
       "      <td>S</td>\n",
       "      <td>Middle-Ages</td>\n",
       "    </tr>\n",
       "    <tr>\n",
       "      <th>3</th>\n",
       "      <td>Europa</td>\n",
       "      <td>False</td>\n",
       "      <td>TRAPPIST-1e</td>\n",
       "      <td>False</td>\n",
       "      <td>0.0</td>\n",
       "      <td>1283.0</td>\n",
       "      <td>371.0</td>\n",
       "      <td>3329.0</td>\n",
       "      <td>193.0</td>\n",
       "      <td>False</td>\n",
       "      <td>A</td>\n",
       "      <td>S</td>\n",
       "      <td>Millenials</td>\n",
       "    </tr>\n",
       "    <tr>\n",
       "      <th>4</th>\n",
       "      <td>Earth</td>\n",
       "      <td>False</td>\n",
       "      <td>TRAPPIST-1e</td>\n",
       "      <td>False</td>\n",
       "      <td>303.0</td>\n",
       "      <td>70.0</td>\n",
       "      <td>151.0</td>\n",
       "      <td>565.0</td>\n",
       "      <td>2.0</td>\n",
       "      <td>True</td>\n",
       "      <td>F</td>\n",
       "      <td>S</td>\n",
       "      <td>Young People</td>\n",
       "    </tr>\n",
       "    <tr>\n",
       "      <th>...</th>\n",
       "      <td>...</td>\n",
       "      <td>...</td>\n",
       "      <td>...</td>\n",
       "      <td>...</td>\n",
       "      <td>...</td>\n",
       "      <td>...</td>\n",
       "      <td>...</td>\n",
       "      <td>...</td>\n",
       "      <td>...</td>\n",
       "      <td>...</td>\n",
       "      <td>...</td>\n",
       "      <td>...</td>\n",
       "      <td>...</td>\n",
       "    </tr>\n",
       "    <tr>\n",
       "      <th>8688</th>\n",
       "      <td>Europa</td>\n",
       "      <td>False</td>\n",
       "      <td>55 Cancri e</td>\n",
       "      <td>True</td>\n",
       "      <td>0.0</td>\n",
       "      <td>6819.0</td>\n",
       "      <td>0.0</td>\n",
       "      <td>1643.0</td>\n",
       "      <td>74.0</td>\n",
       "      <td>False</td>\n",
       "      <td>A</td>\n",
       "      <td>P</td>\n",
       "      <td>Middle-Ages</td>\n",
       "    </tr>\n",
       "    <tr>\n",
       "      <th>8689</th>\n",
       "      <td>Earth</td>\n",
       "      <td>True</td>\n",
       "      <td>PSO J318.5-22</td>\n",
       "      <td>False</td>\n",
       "      <td>0.0</td>\n",
       "      <td>0.0</td>\n",
       "      <td>0.0</td>\n",
       "      <td>0.0</td>\n",
       "      <td>0.0</td>\n",
       "      <td>False</td>\n",
       "      <td>G</td>\n",
       "      <td>S</td>\n",
       "      <td>Young People</td>\n",
       "    </tr>\n",
       "    <tr>\n",
       "      <th>8690</th>\n",
       "      <td>Earth</td>\n",
       "      <td>False</td>\n",
       "      <td>TRAPPIST-1e</td>\n",
       "      <td>False</td>\n",
       "      <td>0.0</td>\n",
       "      <td>0.0</td>\n",
       "      <td>1872.0</td>\n",
       "      <td>1.0</td>\n",
       "      <td>0.0</td>\n",
       "      <td>True</td>\n",
       "      <td>G</td>\n",
       "      <td>S</td>\n",
       "      <td>Millenials</td>\n",
       "    </tr>\n",
       "    <tr>\n",
       "      <th>8691</th>\n",
       "      <td>Europa</td>\n",
       "      <td>False</td>\n",
       "      <td>55 Cancri e</td>\n",
       "      <td>False</td>\n",
       "      <td>0.0</td>\n",
       "      <td>1049.0</td>\n",
       "      <td>0.0</td>\n",
       "      <td>353.0</td>\n",
       "      <td>3235.0</td>\n",
       "      <td>False</td>\n",
       "      <td>E</td>\n",
       "      <td>S</td>\n",
       "      <td>Millenials</td>\n",
       "    </tr>\n",
       "    <tr>\n",
       "      <th>8692</th>\n",
       "      <td>Europa</td>\n",
       "      <td>False</td>\n",
       "      <td>TRAPPIST-1e</td>\n",
       "      <td>False</td>\n",
       "      <td>126.0</td>\n",
       "      <td>4688.0</td>\n",
       "      <td>0.0</td>\n",
       "      <td>0.0</td>\n",
       "      <td>12.0</td>\n",
       "      <td>True</td>\n",
       "      <td>E</td>\n",
       "      <td>S</td>\n",
       "      <td>Middle-Ages</td>\n",
       "    </tr>\n",
       "  </tbody>\n",
       "</table>\n",
       "<p>8602 rows × 13 columns</p>\n",
       "</div>"
      ],
      "text/plain": [
       "     HomePlanet CryoSleep    Destination    VIP  RoomService  FoodCourt  \\\n",
       "0        Europa     False    TRAPPIST-1e  False          0.0        0.0   \n",
       "1         Earth     False    TRAPPIST-1e  False        109.0        9.0   \n",
       "2        Europa     False    TRAPPIST-1e   True         43.0     3576.0   \n",
       "3        Europa     False    TRAPPIST-1e  False          0.0     1283.0   \n",
       "4         Earth     False    TRAPPIST-1e  False        303.0       70.0   \n",
       "...         ...       ...            ...    ...          ...        ...   \n",
       "8688     Europa     False    55 Cancri e   True          0.0     6819.0   \n",
       "8689      Earth      True  PSO J318.5-22  False          0.0        0.0   \n",
       "8690      Earth     False    TRAPPIST-1e  False          0.0        0.0   \n",
       "8691     Europa     False    55 Cancri e  False          0.0     1049.0   \n",
       "8692     Europa     False    TRAPPIST-1e  False        126.0     4688.0   \n",
       "\n",
       "      ShoppingMall     Spa  VRDeck  Transported CabinDeck CabinSide  \\\n",
       "0              0.0     0.0     0.0        False         B         P   \n",
       "1             25.0   549.0    44.0         True         F         S   \n",
       "2              0.0  6715.0    49.0        False         A         S   \n",
       "3            371.0  3329.0   193.0        False         A         S   \n",
       "4            151.0   565.0     2.0         True         F         S   \n",
       "...            ...     ...     ...          ...       ...       ...   \n",
       "8688           0.0  1643.0    74.0        False         A         P   \n",
       "8689           0.0     0.0     0.0        False         G         S   \n",
       "8690        1872.0     1.0     0.0         True         G         S   \n",
       "8691           0.0   353.0  3235.0        False         E         S   \n",
       "8692           0.0     0.0    12.0         True         E         S   \n",
       "\n",
       "          AgeGroup  \n",
       "0       Millenials  \n",
       "1       Millenials  \n",
       "2      Middle-Ages  \n",
       "3       Millenials  \n",
       "4     Young People  \n",
       "...            ...  \n",
       "8688   Middle-Ages  \n",
       "8689  Young People  \n",
       "8690    Millenials  \n",
       "8691    Millenials  \n",
       "8692   Middle-Ages  \n",
       "\n",
       "[8602 rows x 13 columns]"
      ]
     },
     "execution_count": 20,
     "metadata": {},
     "output_type": "execute_result"
    }
   ],
   "source": [
    "#Showing the perfect data for exploratory analysis for feature selection and Machine Learning Models Tuning:\n",
    "df_train"
   ]
  },
  {
   "cell_type": "code",
   "execution_count": 21,
   "id": "b22df96c",
   "metadata": {},
   "outputs": [],
   "source": [
    "#Numerical_variables:\n",
    "#Handling outliers:"
   ]
  },
  {
   "cell_type": "code",
   "execution_count": 22,
   "id": "31ce418f",
   "metadata": {},
   "outputs": [
    {
     "data": {
      "image/png": "[encoded data removed]",
      "text/plain": [
       "<Figure size 1008x720 with 1 Axes>"
      ]
     },
     "metadata": {
      "needs_background": "light"
     },
     "output_type": "display_data"
    },
    {
     "data": {
      "image/png": "[encoded data removed]",
      "text/plain": [
       "<Figure size 1008x720 with 1 Axes>"
      ]
     },
     "metadata": {
      "needs_background": "light"
     },
     "output_type": "display_data"
    },
    {
     "data": {
      "image/png": "[encoded data removed]",
      "text/plain": [
       "<Figure size 1008x720 with 1 Axes>"
      ]
     },
     "metadata": {
      "needs_background": "light"
     },
     "output_type": "display_data"
    },
    {
     "data": {
      "image/png": "[encoded data removed]",
      "text/plain": [
       "<Figure size 1008x720 with 1 Axes>"
      ]
     },
     "metadata": {
      "needs_background": "light"
     },
     "output_type": "display_data"
    },
    {
     "data": {
      "image/png": "[encoded data removed]",
      "text/plain": [
       "<Figure size 1008x720 with 1 Axes>"
      ]
     },
     "metadata": {
      "needs_background": "light"
     },
     "output_type": "display_data"
    }
   ],
   "source": [
    "for num in numerical_variables:\n",
    "    plt.figure(figsize = (14,10))\n",
    "    sns.kdeplot(x = df_train[num], shade = True)\n",
    "    plt.title(f'Distribution of {num}', size = 18)\n",
    "    \n",
    "#THese are highly skewed right"
   ]
  },
  {
   "cell_type": "code",
   "execution_count": 23,
   "id": "61facfa8",
   "metadata": {},
   "outputs": [
    {
     "data": {
      "text/plain": [
       "RoomService        AxesSubplot(0.125,0.71587;0.168478x0.16413)\n",
       "FoodCourt       AxesSubplot(0.327174,0.71587;0.168478x0.16413)\n",
       "ShoppingMall    AxesSubplot(0.529348,0.71587;0.168478x0.16413)\n",
       "Spa             AxesSubplot(0.731522,0.71587;0.168478x0.16413)\n",
       "VRDeck            AxesSubplot(0.125,0.518913;0.168478x0.16413)\n",
       "dtype: object"
      ]
     },
     "execution_count": 23,
     "metadata": {},
     "output_type": "execute_result"
    },
    {
     "data": {
      "image/png": "[encoded data removed]",
      "text/plain": [
       "<Figure size 864x1008 with 16 Axes>"
      ]
     },
     "metadata": {
      "needs_background": "light"
     },
     "output_type": "display_data"
    }
   ],
   "source": [
    "#Outliers_Visualizations:\n",
    "df_train[numerical_variables].plot(subplots = True, kind = 'box', layout = (4,4), figsize = (12,14), patch_artist =True)"
   ]
  },
  {
   "cell_type": "code",
   "execution_count": 24,
   "id": "227eb01f",
   "metadata": {},
   "outputs": [],
   "source": [
    "#This is a zero-inflated model,  we need to Data discretization:\n",
    "#But first, we need to see if any models made considerable contributions to our target variable by using anova_test:"
   ]
  },
  {
   "cell_type": "code",
   "execution_count": 25,
   "id": "54f7455f",
   "metadata": {
    "scrolled": true
   },
   "outputs": [
    {
     "data": {
      "image/png": "[encoded data removed]",
      "text/plain": [
       "<Figure size 1008x720 with 1 Axes>"
      ]
     },
     "metadata": {
      "needs_background": "light"
     },
     "output_type": "display_data"
    },
    {
     "data": {
      "image/png": "[encoded data removed]",
      "text/plain": [
       "<Figure size 1008x720 with 1 Axes>"
      ]
     },
     "metadata": {
      "needs_background": "light"
     },
     "output_type": "display_data"
    },
    {
     "data": {
      "image/png": "[encoded data removed]",
      "text/plain": [
       "<Figure size 1008x720 with 1 Axes>"
      ]
     },
     "metadata": {
      "needs_background": "light"
     },
     "output_type": "display_data"
    },
    {
     "data": {
      "image/png": "[encoded data removed]",
      "text/plain": [
       "<Figure size 1008x720 with 1 Axes>"
      ]
     },
     "metadata": {
      "needs_background": "light"
     },
     "output_type": "display_data"
    },
    {
     "data": {
      "image/png": "[encoded data removed]",
      "text/plain": [
       "<Figure size 1008x720 with 1 Axes>"
      ]
     },
     "metadata": {
      "needs_background": "light"
     },
     "output_type": "display_data"
    },
    {
     "data": {
      "image/png": "[encoded data removed]",
      "text/plain": [
       "<Figure size 1008x720 with 1 Axes>"
      ]
     },
     "metadata": {
      "needs_background": "light"
     },
     "output_type": "display_data"
    },
    {
     "data": {
      "image/png": "[encoded data removed]",
      "text/plain": [
       "<Figure size 1008x720 with 1 Axes>"
      ]
     },
     "metadata": {
      "needs_background": "light"
     },
     "output_type": "display_data"
    }
   ],
   "source": [
    "#Kernel_distribution for categorical values:\n",
    "for cat in categorical_variables:\n",
    "    if df_train[cat].nunique() < 4:\n",
    "        plt.figure(figsize = (14,10))\n",
    "        sns.countplot(x = df_train[cat], palette = 'ch:s=-.2,r=.6')\n",
    "        plt.xlabel(f'{cat}', size = 16)\n",
    "        plt.title(f'Distribution of {cat} values', size = 28)\n",
    "    elif df_train[cat].nunique() == 8:\n",
    "        plt.figure(figsize = (14,10))\n",
    "        order = ['A', 'B', 'C', 'D', 'E', 'F', 'G', 'T']\n",
    "        sns.countplot(x = df_train[cat], palette = 'ch:s=-.2,r=.6', order = order)\n",
    "        plt.xlabel(f'{cat}', size = 16)\n",
    "        plt.title(f'Distribution of {cat}', size = 28)\n",
    "    elif df_train[cat].nunique() == 4:\n",
    "        plt.figure(figsize = (14,10))\n",
    "        order = ['Young People', 'Millenials', 'Middle-Ages', 'Old People']\n",
    "        sns.countplot(x = df_train[cat], palette = 'ch:s=-.2,r=.6')\n",
    "        plt.xlabel(f'{cat}', size = 16)\n",
    "        plt.title(f'Distribution of {cat}', size = 28)"
   ]
  },
  {
   "cell_type": "code",
   "execution_count": 26,
   "id": "16bba273",
   "metadata": {},
   "outputs": [
    {
     "data": {
      "image/png": "[encoded data removed]",
      "text/plain": [
       "<Figure size 1008x720 with 1 Axes>"
      ]
     },
     "metadata": {
      "needs_background": "light"
     },
     "output_type": "display_data"
    }
   ],
   "source": [
    "#Transported or not:\n",
    "plt.figure(figsize = (14,10))\n",
    "sns.countplot(x = df_train['Transported'], palette = 'ch:s=-.2,r=.6')\n",
    "plt.xlabel('Transported', size = 16)\n",
    "plt.title('Distribution of Transported values', size = 28)\n",
    "plt.show()"
   ]
  },
  {
   "cell_type": "code",
   "execution_count": 27,
   "id": "11026e47",
   "metadata": {},
   "outputs": [],
   "source": [
    "#Correlation_checking"
   ]
  },
  {
   "cell_type": "code",
   "execution_count": 28,
   "id": "ca84942c",
   "metadata": {},
   "outputs": [
    {
     "data": {
      "text/html": [
       "<div>\n",
       "<style scoped>\n",
       "    .dataframe tbody tr th:only-of-type {\n",
       "        vertical-align: middle;\n",
       "    }\n",
       "\n",
       "    .dataframe tbody tr th {\n",
       "        vertical-align: top;\n",
       "    }\n",
       "\n",
       "    .dataframe thead th {\n",
       "        text-align: right;\n",
       "    }\n",
       "</style>\n",
       "<table border=\"1\" class=\"dataframe\">\n",
       "  <thead>\n",
       "    <tr style=\"text-align: right;\">\n",
       "      <th></th>\n",
       "      <th>RoomService</th>\n",
       "      <th>FoodCourt</th>\n",
       "      <th>ShoppingMall</th>\n",
       "      <th>Spa</th>\n",
       "      <th>VRDeck</th>\n",
       "    </tr>\n",
       "  </thead>\n",
       "  <tbody>\n",
       "    <tr>\n",
       "      <th>RoomService</th>\n",
       "      <td>1.000000</td>\n",
       "      <td>-0.016133</td>\n",
       "      <td>0.051390</td>\n",
       "      <td>0.008368</td>\n",
       "      <td>-0.019469</td>\n",
       "    </tr>\n",
       "    <tr>\n",
       "      <th>FoodCourt</th>\n",
       "      <td>-0.016133</td>\n",
       "      <td>1.000000</td>\n",
       "      <td>-0.014572</td>\n",
       "      <td>0.220902</td>\n",
       "      <td>0.224095</td>\n",
       "    </tr>\n",
       "    <tr>\n",
       "      <th>ShoppingMall</th>\n",
       "      <td>0.051390</td>\n",
       "      <td>-0.014572</td>\n",
       "      <td>1.000000</td>\n",
       "      <td>0.013801</td>\n",
       "      <td>-0.008559</td>\n",
       "    </tr>\n",
       "    <tr>\n",
       "      <th>Spa</th>\n",
       "      <td>0.008368</td>\n",
       "      <td>0.220902</td>\n",
       "      <td>0.013801</td>\n",
       "      <td>1.000000</td>\n",
       "      <td>0.147092</td>\n",
       "    </tr>\n",
       "    <tr>\n",
       "      <th>VRDeck</th>\n",
       "      <td>-0.019469</td>\n",
       "      <td>0.224095</td>\n",
       "      <td>-0.008559</td>\n",
       "      <td>0.147092</td>\n",
       "      <td>1.000000</td>\n",
       "    </tr>\n",
       "  </tbody>\n",
       "</table>\n",
       "</div>"
      ],
      "text/plain": [
       "              RoomService  FoodCourt  ShoppingMall       Spa    VRDeck\n",
       "RoomService      1.000000  -0.016133      0.051390  0.008368 -0.019469\n",
       "FoodCourt       -0.016133   1.000000     -0.014572  0.220902  0.224095\n",
       "ShoppingMall     0.051390  -0.014572      1.000000  0.013801 -0.008559\n",
       "Spa              0.008368   0.220902      0.013801  1.000000  0.147092\n",
       "VRDeck          -0.019469   0.224095     -0.008559  0.147092  1.000000"
      ]
     },
     "execution_count": 28,
     "metadata": {},
     "output_type": "execute_result"
    }
   ],
   "source": [
    "corr = df_train[numerical_variables].corr()\n",
    "corr "
   ]
  },
  {
   "cell_type": "code",
   "execution_count": 29,
   "id": "f40bdad6",
   "metadata": {},
   "outputs": [
    {
     "data": {
      "text/plain": [
       "<seaborn.matrix.ClusterGrid at 0x2de28013eb0>"
      ]
     },
     "execution_count": 29,
     "metadata": {},
     "output_type": "execute_result"
    },
    {
     "data": {
      "image/png": "[encoded data removed]",
      "text/plain": [
       "<Figure size 720x720 with 4 Axes>"
      ]
     },
     "metadata": {
      "needs_background": "light"
     },
     "output_type": "display_data"
    }
   ],
   "source": [
    "sns.clustermap(data = corr, cmap = 'rocket', annot = True)"
   ]
  },
  {
   "cell_type": "code",
   "execution_count": 30,
   "id": "1b16c35d",
   "metadata": {},
   "outputs": [
    {
     "data": {
      "text/html": [
       "<div>\n",
       "<style scoped>\n",
       "    .dataframe tbody tr th:only-of-type {\n",
       "        vertical-align: middle;\n",
       "    }\n",
       "\n",
       "    .dataframe tbody tr th {\n",
       "        vertical-align: top;\n",
       "    }\n",
       "\n",
       "    .dataframe thead th {\n",
       "        text-align: right;\n",
       "    }\n",
       "</style>\n",
       "<table border=\"1\" class=\"dataframe\">\n",
       "  <thead>\n",
       "    <tr style=\"text-align: right;\">\n",
       "      <th></th>\n",
       "      <th>Independent Variables</th>\n",
       "      <th>Target Variables</th>\n",
       "      <th>p_value</th>\n",
       "      <th>Selection</th>\n",
       "    </tr>\n",
       "  </thead>\n",
       "  <tbody>\n",
       "    <tr>\n",
       "      <th>0</th>\n",
       "      <td>HomePlanet</td>\n",
       "      <td>Transported</td>\n",
       "      <td>1.098027e-68</td>\n",
       "      <td>Yes</td>\n",
       "    </tr>\n",
       "    <tr>\n",
       "      <th>1</th>\n",
       "      <td>CryoSleep</td>\n",
       "      <td>Transported</td>\n",
       "      <td>0.000000e+00</td>\n",
       "      <td>Yes</td>\n",
       "    </tr>\n",
       "    <tr>\n",
       "      <th>2</th>\n",
       "      <td>Destination</td>\n",
       "      <td>Transported</td>\n",
       "      <td>3.547102e-23</td>\n",
       "      <td>Yes</td>\n",
       "    </tr>\n",
       "    <tr>\n",
       "      <th>3</th>\n",
       "      <td>VIP</td>\n",
       "      <td>Transported</td>\n",
       "      <td>8.712303e-04</td>\n",
       "      <td>Yes</td>\n",
       "    </tr>\n",
       "    <tr>\n",
       "      <th>4</th>\n",
       "      <td>CabinDeck</td>\n",
       "      <td>Transported</td>\n",
       "      <td>2.524126e-79</td>\n",
       "      <td>Yes</td>\n",
       "    </tr>\n",
       "    <tr>\n",
       "      <th>5</th>\n",
       "      <td>CabinSide</td>\n",
       "      <td>Transported</td>\n",
       "      <td>6.661208e-21</td>\n",
       "      <td>Yes</td>\n",
       "    </tr>\n",
       "    <tr>\n",
       "      <th>6</th>\n",
       "      <td>AgeGroup</td>\n",
       "      <td>Transported</td>\n",
       "      <td>1.300692e-18</td>\n",
       "      <td>Yes</td>\n",
       "    </tr>\n",
       "  </tbody>\n",
       "</table>\n",
       "</div>"
      ],
      "text/plain": [
       "  Independent Variables Target Variables       p_value Selection\n",
       "0            HomePlanet      Transported  1.098027e-68       Yes\n",
       "1             CryoSleep      Transported  0.000000e+00       Yes\n",
       "2           Destination      Transported  3.547102e-23       Yes\n",
       "3                   VIP      Transported  8.712303e-04       Yes\n",
       "4             CabinDeck      Transported  2.524126e-79       Yes\n",
       "5             CabinSide      Transported  6.661208e-21       Yes\n",
       "6              AgeGroup      Transported  1.300692e-18       Yes"
      ]
     },
     "execution_count": 30,
     "metadata": {},
     "output_type": "execute_result"
    }
   ],
   "source": [
    "#Most of these are continous variables so it doesn't actually depend on eachother\n",
    "#Correlations in target_variables and independent categorical variables:\n",
    "\n",
    "from itertools import product\n",
    "\n",
    "target_var = [\"Transported\"]\n",
    "\n",
    "list1 = list(product(categorical_variables, target_var, repeat = 1))\n",
    "\n",
    "list1\n",
    "\n",
    "import scipy.stats as ss\n",
    "\n",
    "result = []\n",
    "\n",
    "for i in list1:\n",
    "    result.append((i[0],i[1],list(ss.chi2_contingency(pd.crosstab(df_train[i[0]], df_train[i[1]])))[1]))\n",
    "    \n",
    "chi_2_table = pd.DataFrame(result, columns = ['Independent Variables', 'Target Variables', 'p_value'])\n",
    "\n",
    "def refine_this(x):\n",
    "    if x <= 0.05:\n",
    "        return 'Yes'\n",
    "    else:\n",
    "        return 'No'\n",
    "\n",
    "chi_2_table['Selection'] = chi_2_table['p_value'].apply(refine_this)\n",
    "\n",
    "chi_2_table"
   ]
  },
  {
   "cell_type": "code",
   "execution_count": 31,
   "id": "a09c8d41",
   "metadata": {},
   "outputs": [],
   "source": [
    "#We can choose all the features"
   ]
  },
  {
   "cell_type": "code",
   "execution_count": 32,
   "id": "cc48236d",
   "metadata": {},
   "outputs": [],
   "source": [
    "# Moving on to numerical_continous variables. Như đã nói,we can see that it is a zero-inflated model. We need to perform a data discretezation\n",
    "# But first, let's use ANOVA TEST FOR THIS ONE:\n",
    "\n",
    "import statsmodels.api as sm\n",
    "from statsmodels.formula.api import ols\n",
    "\n",
    "anva_test = []\n",
    "\n",
    "for i in numerical_variables:\n",
    "    anva_test.append(i + '~' + 'Transported')\n",
    "\n",
    "anv1 = ols(anva_test[0], data = df_train).fit()\n",
    "anova1 = sm.stats.anova_lm(anv1, typ = 2).T\n",
    "anv2 = ols(anva_test[1], data = df_train).fit()\n",
    "anova2 = sm.stats.anova_lm(anv2, typ = 2).T\n",
    "anv3 = ols(anva_test[2], data = df_train).fit()\n",
    "anova3 = sm.stats.anova_lm(anv3, typ = 2).T\n",
    "anv4 = ols(anva_test[3], data = df_train).fit()\n",
    "anova4 = sm.stats.anova_lm(anv4, typ = 2).T\n",
    "anv5 = ols(anva_test[4], data = df_train).fit()\n",
    "anova5 = sm.stats.anova_lm(anv5, typ = 2).T"
   ]
  },
  {
   "cell_type": "code",
   "execution_count": 33,
   "id": "62ed0419",
   "metadata": {},
   "outputs": [],
   "source": [
    "result = pd.concat([anova1, anova2, anova3, anova4, anova5], axis=1, join='inner')"
   ]
  },
  {
   "cell_type": "code",
   "execution_count": 34,
   "id": "5a0af78d",
   "metadata": {},
   "outputs": [],
   "source": [
    "result.columns = ['RoomService','Resiuduals1', 'ShoppingMall','Residuals2','FoodCourt', 'Residuals3', 'Spa', 'Residuals4','VRDeck', 'Residuals5']"
   ]
  },
  {
   "cell_type": "code",
   "execution_count": 35,
   "id": "9bf6537f",
   "metadata": {},
   "outputs": [
    {
     "data": {
      "text/html": [
       "<div>\n",
       "<style scoped>\n",
       "    .dataframe tbody tr th:only-of-type {\n",
       "        vertical-align: middle;\n",
       "    }\n",
       "\n",
       "    .dataframe tbody tr th {\n",
       "        vertical-align: top;\n",
       "    }\n",
       "\n",
       "    .dataframe thead th {\n",
       "        text-align: right;\n",
       "    }\n",
       "</style>\n",
       "<table border=\"1\" class=\"dataframe\">\n",
       "  <thead>\n",
       "    <tr style=\"text-align: right;\">\n",
       "      <th></th>\n",
       "      <th>RoomService</th>\n",
       "      <th>Resiuduals1</th>\n",
       "      <th>ShoppingMall</th>\n",
       "      <th>Residuals2</th>\n",
       "      <th>FoodCourt</th>\n",
       "      <th>Residuals3</th>\n",
       "      <th>Spa</th>\n",
       "      <th>Residuals4</th>\n",
       "      <th>VRDeck</th>\n",
       "      <th>Residuals5</th>\n",
       "    </tr>\n",
       "  </thead>\n",
       "  <tbody>\n",
       "    <tr>\n",
       "      <th>sum_sq</th>\n",
       "      <td>2.196401e+08</td>\n",
       "      <td>3.568101e+09</td>\n",
       "      <td>4.947762e+07</td>\n",
       "      <td>2.206662e+10</td>\n",
       "      <td>369970.541137</td>\n",
       "      <td>3.105354e+09</td>\n",
       "      <td>5.237152e+08</td>\n",
       "      <td>1.047936e+10</td>\n",
       "      <td>4.665353e+08</td>\n",
       "      <td>1.070110e+10</td>\n",
       "    </tr>\n",
       "    <tr>\n",
       "      <th>df</th>\n",
       "      <td>1.000000e+00</td>\n",
       "      <td>8.600000e+03</td>\n",
       "      <td>1.000000e+00</td>\n",
       "      <td>8.600000e+03</td>\n",
       "      <td>1.000000</td>\n",
       "      <td>8.600000e+03</td>\n",
       "      <td>1.000000e+00</td>\n",
       "      <td>8.600000e+03</td>\n",
       "      <td>1.000000e+00</td>\n",
       "      <td>8.600000e+03</td>\n",
       "    </tr>\n",
       "    <tr>\n",
       "      <th>F</th>\n",
       "      <td>5.293865e+02</td>\n",
       "      <td>NaN</td>\n",
       "      <td>1.928286e+01</td>\n",
       "      <td>NaN</td>\n",
       "      <td>1.024600</td>\n",
       "      <td>NaN</td>\n",
       "      <td>4.297925e+02</td>\n",
       "      <td>NaN</td>\n",
       "      <td>3.749337e+02</td>\n",
       "      <td>NaN</td>\n",
       "    </tr>\n",
       "    <tr>\n",
       "      <th>PR(&gt;F)</th>\n",
       "      <td>9.924027e-114</td>\n",
       "      <td>NaN</td>\n",
       "      <td>1.140622e-05</td>\n",
       "      <td>NaN</td>\n",
       "      <td>0.311459</td>\n",
       "      <td>NaN</td>\n",
       "      <td>3.340533e-93</td>\n",
       "      <td>NaN</td>\n",
       "      <td>8.551350e-82</td>\n",
       "      <td>NaN</td>\n",
       "    </tr>\n",
       "  </tbody>\n",
       "</table>\n",
       "</div>"
      ],
      "text/plain": [
       "          RoomService   Resiuduals1  ShoppingMall    Residuals2  \\\n",
       "sum_sq   2.196401e+08  3.568101e+09  4.947762e+07  2.206662e+10   \n",
       "df       1.000000e+00  8.600000e+03  1.000000e+00  8.600000e+03   \n",
       "F        5.293865e+02           NaN  1.928286e+01           NaN   \n",
       "PR(>F)  9.924027e-114           NaN  1.140622e-05           NaN   \n",
       "\n",
       "            FoodCourt    Residuals3           Spa    Residuals4        VRDeck  \\\n",
       "sum_sq  369970.541137  3.105354e+09  5.237152e+08  1.047936e+10  4.665353e+08   \n",
       "df           1.000000  8.600000e+03  1.000000e+00  8.600000e+03  1.000000e+00   \n",
       "F            1.024600           NaN  4.297925e+02           NaN  3.749337e+02   \n",
       "PR(>F)       0.311459           NaN  3.340533e-93           NaN  8.551350e-82   \n",
       "\n",
       "          Residuals5  \n",
       "sum_sq  1.070110e+10  \n",
       "df      8.600000e+03  \n",
       "F                NaN  \n",
       "PR(>F)           NaN  "
      ]
     },
     "execution_count": 35,
     "metadata": {},
     "output_type": "execute_result"
    }
   ],
   "source": [
    "result"
   ]
  },
  {
   "cell_type": "code",
   "execution_count": 36,
   "id": "fa5749a8",
   "metadata": {},
   "outputs": [],
   "source": [
    "#We will still keep the rest but perform data disecretization to FoodCourt"
   ]
  },
  {
   "cell_type": "code",
   "execution_count": 37,
   "id": "4c57ea27",
   "metadata": {},
   "outputs": [],
   "source": [
    "df_train['FoodCourtBySpending'] = pd.cut(x = df_train['FoodCourt'], bins = [0, 76, 10000, 15000, 29813], labels = ['Small','Average','Above Average', 'High'])"
   ]
  },
  {
   "cell_type": "code",
   "execution_count": 38,
   "id": "268206f4",
   "metadata": {},
   "outputs": [],
   "source": [
    "df_train['FoodCourtBySpending'] = df_train['FoodCourtBySpending'].astype('object')"
   ]
  },
  {
   "cell_type": "code",
   "execution_count": 39,
   "id": "6519c7a5",
   "metadata": {},
   "outputs": [],
   "source": [
    "df_train['FoodCourtBySpending'] = df_train['FoodCourtBySpending'].fillna('Zero')"
   ]
  },
  {
   "cell_type": "code",
   "execution_count": 40,
   "id": "a4f44421",
   "metadata": {},
   "outputs": [
    {
     "data": {
      "text/html": [
       "<div>\n",
       "<style scoped>\n",
       "    .dataframe tbody tr th:only-of-type {\n",
       "        vertical-align: middle;\n",
       "    }\n",
       "\n",
       "    .dataframe tbody tr th {\n",
       "        vertical-align: top;\n",
       "    }\n",
       "\n",
       "    .dataframe thead th {\n",
       "        text-align: right;\n",
       "    }\n",
       "</style>\n",
       "<table border=\"1\" class=\"dataframe\">\n",
       "  <thead>\n",
       "    <tr style=\"text-align: right;\">\n",
       "      <th></th>\n",
       "      <th>FoodCourtBySpending</th>\n",
       "      <th>Transported</th>\n",
       "      <th>p_value</th>\n",
       "      <th>Selection</th>\n",
       "    </tr>\n",
       "  </thead>\n",
       "  <tbody>\n",
       "    <tr>\n",
       "      <th>0</th>\n",
       "      <td>FoodCourtBySpending</td>\n",
       "      <td>Transported</td>\n",
       "      <td>1.243893e-124</td>\n",
       "      <td>Yes</td>\n",
       "    </tr>\n",
       "  </tbody>\n",
       "</table>\n",
       "</div>"
      ],
      "text/plain": [
       "   FoodCourtBySpending  Transported        p_value Selection\n",
       "0  FoodCourtBySpending  Transported  1.243893e-124       Yes"
      ]
     },
     "execution_count": 40,
     "metadata": {},
     "output_type": "execute_result"
    }
   ],
   "source": [
    "chi2_table = []\n",
    "\n",
    "feats = ('FoodCourtBySpending', 'Transported')\n",
    "\n",
    "chi2_table.append((feats[0], feats[1], list(ss.chi2_contingency(pd.crosstab(df_train[feats[0]], df_train[feats[1]])))[1]))\n",
    "\n",
    "chi2_table = pd.DataFrame(chi2_table, columns = ['FoodCourtBySpending', 'Transported', 'p_value'])\n",
    "\n",
    "chi2_table['Selection'] = chi2_table['p_value'].apply(refine_this)\n",
    "\n",
    "chi2_table"
   ]
  },
  {
   "cell_type": "code",
   "execution_count": 41,
   "id": "49591988",
   "metadata": {},
   "outputs": [],
   "source": [
    "#Which means we will keep this as a categorical_variables\n",
    "df_train = df_train.drop(columns = ['FoodCourt'])"
   ]
  },
  {
   "cell_type": "code",
   "execution_count": 42,
   "id": "63ae701d",
   "metadata": {},
   "outputs": [],
   "source": [
    "X = df_train.select_dtypes(include = ['object', 'float'], exclude = 'bool')\n",
    "y = df_train['Transported']"
   ]
  },
  {
   "cell_type": "code",
   "execution_count": 43,
   "id": "8387e458",
   "metadata": {},
   "outputs": [
    {
     "data": {
      "text/html": [
       "<div>\n",
       "<style scoped>\n",
       "    .dataframe tbody tr th:only-of-type {\n",
       "        vertical-align: middle;\n",
       "    }\n",
       "\n",
       "    .dataframe tbody tr th {\n",
       "        vertical-align: top;\n",
       "    }\n",
       "\n",
       "    .dataframe thead th {\n",
       "        text-align: right;\n",
       "    }\n",
       "</style>\n",
       "<table border=\"1\" class=\"dataframe\">\n",
       "  <thead>\n",
       "    <tr style=\"text-align: right;\">\n",
       "      <th></th>\n",
       "      <th>HomePlanet</th>\n",
       "      <th>CryoSleep</th>\n",
       "      <th>Destination</th>\n",
       "      <th>VIP</th>\n",
       "      <th>RoomService</th>\n",
       "      <th>ShoppingMall</th>\n",
       "      <th>Spa</th>\n",
       "      <th>VRDeck</th>\n",
       "      <th>CabinDeck</th>\n",
       "      <th>CabinSide</th>\n",
       "      <th>AgeGroup</th>\n",
       "      <th>FoodCourtBySpending</th>\n",
       "    </tr>\n",
       "  </thead>\n",
       "  <tbody>\n",
       "    <tr>\n",
       "      <th>0</th>\n",
       "      <td>Europa</td>\n",
       "      <td>False</td>\n",
       "      <td>TRAPPIST-1e</td>\n",
       "      <td>False</td>\n",
       "      <td>0.0</td>\n",
       "      <td>0.0</td>\n",
       "      <td>0.0</td>\n",
       "      <td>0.0</td>\n",
       "      <td>B</td>\n",
       "      <td>P</td>\n",
       "      <td>Millenials</td>\n",
       "      <td>Zero</td>\n",
       "    </tr>\n",
       "    <tr>\n",
       "      <th>1</th>\n",
       "      <td>Earth</td>\n",
       "      <td>False</td>\n",
       "      <td>TRAPPIST-1e</td>\n",
       "      <td>False</td>\n",
       "      <td>109.0</td>\n",
       "      <td>25.0</td>\n",
       "      <td>549.0</td>\n",
       "      <td>44.0</td>\n",
       "      <td>F</td>\n",
       "      <td>S</td>\n",
       "      <td>Millenials</td>\n",
       "      <td>Small</td>\n",
       "    </tr>\n",
       "    <tr>\n",
       "      <th>2</th>\n",
       "      <td>Europa</td>\n",
       "      <td>False</td>\n",
       "      <td>TRAPPIST-1e</td>\n",
       "      <td>True</td>\n",
       "      <td>43.0</td>\n",
       "      <td>0.0</td>\n",
       "      <td>6715.0</td>\n",
       "      <td>49.0</td>\n",
       "      <td>A</td>\n",
       "      <td>S</td>\n",
       "      <td>Middle-Ages</td>\n",
       "      <td>Average</td>\n",
       "    </tr>\n",
       "    <tr>\n",
       "      <th>3</th>\n",
       "      <td>Europa</td>\n",
       "      <td>False</td>\n",
       "      <td>TRAPPIST-1e</td>\n",
       "      <td>False</td>\n",
       "      <td>0.0</td>\n",
       "      <td>371.0</td>\n",
       "      <td>3329.0</td>\n",
       "      <td>193.0</td>\n",
       "      <td>A</td>\n",
       "      <td>S</td>\n",
       "      <td>Millenials</td>\n",
       "      <td>Average</td>\n",
       "    </tr>\n",
       "    <tr>\n",
       "      <th>4</th>\n",
       "      <td>Earth</td>\n",
       "      <td>False</td>\n",
       "      <td>TRAPPIST-1e</td>\n",
       "      <td>False</td>\n",
       "      <td>303.0</td>\n",
       "      <td>151.0</td>\n",
       "      <td>565.0</td>\n",
       "      <td>2.0</td>\n",
       "      <td>F</td>\n",
       "      <td>S</td>\n",
       "      <td>Young People</td>\n",
       "      <td>Small</td>\n",
       "    </tr>\n",
       "    <tr>\n",
       "      <th>...</th>\n",
       "      <td>...</td>\n",
       "      <td>...</td>\n",
       "      <td>...</td>\n",
       "      <td>...</td>\n",
       "      <td>...</td>\n",
       "      <td>...</td>\n",
       "      <td>...</td>\n",
       "      <td>...</td>\n",
       "      <td>...</td>\n",
       "      <td>...</td>\n",
       "      <td>...</td>\n",
       "      <td>...</td>\n",
       "    </tr>\n",
       "    <tr>\n",
       "      <th>8688</th>\n",
       "      <td>Europa</td>\n",
       "      <td>False</td>\n",
       "      <td>55 Cancri e</td>\n",
       "      <td>True</td>\n",
       "      <td>0.0</td>\n",
       "      <td>0.0</td>\n",
       "      <td>1643.0</td>\n",
       "      <td>74.0</td>\n",
       "      <td>A</td>\n",
       "      <td>P</td>\n",
       "      <td>Middle-Ages</td>\n",
       "      <td>Average</td>\n",
       "    </tr>\n",
       "    <tr>\n",
       "      <th>8689</th>\n",
       "      <td>Earth</td>\n",
       "      <td>True</td>\n",
       "      <td>PSO J318.5-22</td>\n",
       "      <td>False</td>\n",
       "      <td>0.0</td>\n",
       "      <td>0.0</td>\n",
       "      <td>0.0</td>\n",
       "      <td>0.0</td>\n",
       "      <td>G</td>\n",
       "      <td>S</td>\n",
       "      <td>Young People</td>\n",
       "      <td>Zero</td>\n",
       "    </tr>\n",
       "    <tr>\n",
       "      <th>8690</th>\n",
       "      <td>Earth</td>\n",
       "      <td>False</td>\n",
       "      <td>TRAPPIST-1e</td>\n",
       "      <td>False</td>\n",
       "      <td>0.0</td>\n",
       "      <td>1872.0</td>\n",
       "      <td>1.0</td>\n",
       "      <td>0.0</td>\n",
       "      <td>G</td>\n",
       "      <td>S</td>\n",
       "      <td>Millenials</td>\n",
       "      <td>Zero</td>\n",
       "    </tr>\n",
       "    <tr>\n",
       "      <th>8691</th>\n",
       "      <td>Europa</td>\n",
       "      <td>False</td>\n",
       "      <td>55 Cancri e</td>\n",
       "      <td>False</td>\n",
       "      <td>0.0</td>\n",
       "      <td>0.0</td>\n",
       "      <td>353.0</td>\n",
       "      <td>3235.0</td>\n",
       "      <td>E</td>\n",
       "      <td>S</td>\n",
       "      <td>Millenials</td>\n",
       "      <td>Average</td>\n",
       "    </tr>\n",
       "    <tr>\n",
       "      <th>8692</th>\n",
       "      <td>Europa</td>\n",
       "      <td>False</td>\n",
       "      <td>TRAPPIST-1e</td>\n",
       "      <td>False</td>\n",
       "      <td>126.0</td>\n",
       "      <td>0.0</td>\n",
       "      <td>0.0</td>\n",
       "      <td>12.0</td>\n",
       "      <td>E</td>\n",
       "      <td>S</td>\n",
       "      <td>Middle-Ages</td>\n",
       "      <td>Average</td>\n",
       "    </tr>\n",
       "  </tbody>\n",
       "</table>\n",
       "<p>8602 rows × 12 columns</p>\n",
       "</div>"
      ],
      "text/plain": [
       "     HomePlanet CryoSleep    Destination    VIP  RoomService  ShoppingMall  \\\n",
       "0        Europa     False    TRAPPIST-1e  False          0.0           0.0   \n",
       "1         Earth     False    TRAPPIST-1e  False        109.0          25.0   \n",
       "2        Europa     False    TRAPPIST-1e   True         43.0           0.0   \n",
       "3        Europa     False    TRAPPIST-1e  False          0.0         371.0   \n",
       "4         Earth     False    TRAPPIST-1e  False        303.0         151.0   \n",
       "...         ...       ...            ...    ...          ...           ...   \n",
       "8688     Europa     False    55 Cancri e   True          0.0           0.0   \n",
       "8689      Earth      True  PSO J318.5-22  False          0.0           0.0   \n",
       "8690      Earth     False    TRAPPIST-1e  False          0.0        1872.0   \n",
       "8691     Europa     False    55 Cancri e  False          0.0           0.0   \n",
       "8692     Europa     False    TRAPPIST-1e  False        126.0           0.0   \n",
       "\n",
       "         Spa  VRDeck CabinDeck CabinSide      AgeGroup FoodCourtBySpending  \n",
       "0        0.0     0.0         B         P    Millenials                Zero  \n",
       "1      549.0    44.0         F         S    Millenials               Small  \n",
       "2     6715.0    49.0         A         S   Middle-Ages             Average  \n",
       "3     3329.0   193.0         A         S    Millenials             Average  \n",
       "4      565.0     2.0         F         S  Young People               Small  \n",
       "...      ...     ...       ...       ...           ...                 ...  \n",
       "8688  1643.0    74.0         A         P   Middle-Ages             Average  \n",
       "8689     0.0     0.0         G         S  Young People                Zero  \n",
       "8690     1.0     0.0         G         S    Millenials                Zero  \n",
       "8691   353.0  3235.0         E         S    Millenials             Average  \n",
       "8692     0.0    12.0         E         S   Middle-Ages             Average  \n",
       "\n",
       "[8602 rows x 12 columns]"
      ]
     },
     "execution_count": 43,
     "metadata": {},
     "output_type": "execute_result"
    }
   ],
   "source": [
    "X"
   ]
  },
  {
   "cell_type": "code",
   "execution_count": 44,
   "id": "01314c21",
   "metadata": {},
   "outputs": [],
   "source": [
    "#Pre-Processing:\n",
    "from sklearn.preprocessing import OrdinalEncoder\n",
    "from sklearn.preprocessing import OneHotEncoder"
   ]
  },
  {
   "cell_type": "code",
   "execution_count": 45,
   "id": "934e622c",
   "metadata": {},
   "outputs": [],
   "source": [
    "X = pd.get_dummies(X, columns = ['HomePlanet', 'Destination', 'CabinDeck', 'CabinSide', 'AgeGroup'])"
   ]
  },
  {
   "cell_type": "code",
   "execution_count": 46,
   "id": "6fa4287e",
   "metadata": {},
   "outputs": [],
   "source": [
    "oe = OrdinalEncoder()\n",
    "\n",
    "X[['CryoSleep', 'VIP']] = oe.fit_transform(X[['CryoSleep', 'VIP']])"
   ]
  },
  {
   "cell_type": "code",
   "execution_count": 47,
   "id": "22de883f",
   "metadata": {},
   "outputs": [],
   "source": [
    "categories_in_order = ['Zero', 'Small', 'Average', 'Above Average', 'High']\n",
    "\n",
    "\n",
    "oe2 = OrdinalEncoder(categories = list(np.array(categories_in_order).reshape(1,5)))\n",
    "\n",
    "X[['FoodCourtBySpending']] = oe2.fit_transform(X[['FoodCourtBySpending']])"
   ]
  },
  {
   "cell_type": "code",
   "execution_count": 48,
   "id": "8f136284",
   "metadata": {},
   "outputs": [],
   "source": [
    "y = oe.fit_transform(np.array(y).reshape(-1,1))"
   ]
  },
  {
   "cell_type": "code",
   "execution_count": 49,
   "id": "ade843a5",
   "metadata": {},
   "outputs": [],
   "source": [
    "from sklearn.preprocessing import StandardScaler\n",
    "\n",
    "ss = StandardScaler()\n",
    "\n",
    "X[['RoomService', 'ShoppingMall', 'Spa', 'VRDeck']] = ss.fit_transform(X[['RoomService', 'ShoppingMall', 'Spa', 'VRDeck']])"
   ]
  },
  {
   "cell_type": "code",
   "execution_count": 50,
   "id": "8e434ae2",
   "metadata": {},
   "outputs": [
    {
     "data": {
      "text/html": [
       "<div>\n",
       "<style scoped>\n",
       "    .dataframe tbody tr th:only-of-type {\n",
       "        vertical-align: middle;\n",
       "    }\n",
       "\n",
       "    .dataframe tbody tr th {\n",
       "        vertical-align: top;\n",
       "    }\n",
       "\n",
       "    .dataframe thead th {\n",
       "        text-align: right;\n",
       "    }\n",
       "</style>\n",
       "<table border=\"1\" class=\"dataframe\">\n",
       "  <thead>\n",
       "    <tr style=\"text-align: right;\">\n",
       "      <th></th>\n",
       "      <th>CryoSleep</th>\n",
       "      <th>VIP</th>\n",
       "      <th>RoomService</th>\n",
       "      <th>ShoppingMall</th>\n",
       "      <th>Spa</th>\n",
       "      <th>VRDeck</th>\n",
       "      <th>FoodCourtBySpending</th>\n",
       "      <th>HomePlanet_Earth</th>\n",
       "      <th>HomePlanet_Europa</th>\n",
       "      <th>HomePlanet_Mars</th>\n",
       "      <th>...</th>\n",
       "      <th>CabinDeck_E</th>\n",
       "      <th>CabinDeck_F</th>\n",
       "      <th>CabinDeck_G</th>\n",
       "      <th>CabinDeck_T</th>\n",
       "      <th>CabinSide_P</th>\n",
       "      <th>CabinSide_S</th>\n",
       "      <th>AgeGroup_Middle-Ages</th>\n",
       "      <th>AgeGroup_Millenials</th>\n",
       "      <th>AgeGroup_Old People</th>\n",
       "      <th>AgeGroup_Young People</th>\n",
       "    </tr>\n",
       "  </thead>\n",
       "  <tbody>\n",
       "    <tr>\n",
       "      <th>0</th>\n",
       "      <td>0.0</td>\n",
       "      <td>0.0</td>\n",
       "      <td>-0.335059</td>\n",
       "      <td>-0.285196</td>\n",
       "      <td>-0.271953</td>\n",
       "      <td>-0.264229</td>\n",
       "      <td>0.0</td>\n",
       "      <td>0</td>\n",
       "      <td>1</td>\n",
       "      <td>0</td>\n",
       "      <td>...</td>\n",
       "      <td>0</td>\n",
       "      <td>0</td>\n",
       "      <td>0</td>\n",
       "      <td>0</td>\n",
       "      <td>1</td>\n",
       "      <td>0</td>\n",
       "      <td>0</td>\n",
       "      <td>1</td>\n",
       "      <td>0</td>\n",
       "      <td>0</td>\n",
       "    </tr>\n",
       "    <tr>\n",
       "      <th>1</th>\n",
       "      <td>0.0</td>\n",
       "      <td>0.0</td>\n",
       "      <td>-0.170797</td>\n",
       "      <td>-0.243590</td>\n",
       "      <td>0.213464</td>\n",
       "      <td>-0.225612</td>\n",
       "      <td>1.0</td>\n",
       "      <td>1</td>\n",
       "      <td>0</td>\n",
       "      <td>0</td>\n",
       "      <td>...</td>\n",
       "      <td>0</td>\n",
       "      <td>1</td>\n",
       "      <td>0</td>\n",
       "      <td>0</td>\n",
       "      <td>0</td>\n",
       "      <td>1</td>\n",
       "      <td>0</td>\n",
       "      <td>1</td>\n",
       "      <td>0</td>\n",
       "      <td>0</td>\n",
       "    </tr>\n",
       "    <tr>\n",
       "      <th>2</th>\n",
       "      <td>0.0</td>\n",
       "      <td>1.0</td>\n",
       "      <td>-0.270258</td>\n",
       "      <td>-0.285196</td>\n",
       "      <td>5.665343</td>\n",
       "      <td>-0.221224</td>\n",
       "      <td>2.0</td>\n",
       "      <td>0</td>\n",
       "      <td>1</td>\n",
       "      <td>0</td>\n",
       "      <td>...</td>\n",
       "      <td>0</td>\n",
       "      <td>0</td>\n",
       "      <td>0</td>\n",
       "      <td>0</td>\n",
       "      <td>0</td>\n",
       "      <td>1</td>\n",
       "      <td>1</td>\n",
       "      <td>0</td>\n",
       "      <td>0</td>\n",
       "      <td>0</td>\n",
       "    </tr>\n",
       "    <tr>\n",
       "      <th>3</th>\n",
       "      <td>0.0</td>\n",
       "      <td>0.0</td>\n",
       "      <td>-0.335059</td>\n",
       "      <td>0.332240</td>\n",
       "      <td>2.671495</td>\n",
       "      <td>-0.094843</td>\n",
       "      <td>2.0</td>\n",
       "      <td>0</td>\n",
       "      <td>1</td>\n",
       "      <td>0</td>\n",
       "      <td>...</td>\n",
       "      <td>0</td>\n",
       "      <td>0</td>\n",
       "      <td>0</td>\n",
       "      <td>0</td>\n",
       "      <td>0</td>\n",
       "      <td>1</td>\n",
       "      <td>0</td>\n",
       "      <td>1</td>\n",
       "      <td>0</td>\n",
       "      <td>0</td>\n",
       "    </tr>\n",
       "    <tr>\n",
       "      <th>4</th>\n",
       "      <td>0.0</td>\n",
       "      <td>0.0</td>\n",
       "      <td>0.121558</td>\n",
       "      <td>-0.033894</td>\n",
       "      <td>0.227611</td>\n",
       "      <td>-0.262474</td>\n",
       "      <td>1.0</td>\n",
       "      <td>1</td>\n",
       "      <td>0</td>\n",
       "      <td>0</td>\n",
       "      <td>...</td>\n",
       "      <td>0</td>\n",
       "      <td>1</td>\n",
       "      <td>0</td>\n",
       "      <td>0</td>\n",
       "      <td>0</td>\n",
       "      <td>1</td>\n",
       "      <td>0</td>\n",
       "      <td>0</td>\n",
       "      <td>0</td>\n",
       "      <td>1</td>\n",
       "    </tr>\n",
       "    <tr>\n",
       "      <th>...</th>\n",
       "      <td>...</td>\n",
       "      <td>...</td>\n",
       "      <td>...</td>\n",
       "      <td>...</td>\n",
       "      <td>...</td>\n",
       "      <td>...</td>\n",
       "      <td>...</td>\n",
       "      <td>...</td>\n",
       "      <td>...</td>\n",
       "      <td>...</td>\n",
       "      <td>...</td>\n",
       "      <td>...</td>\n",
       "      <td>...</td>\n",
       "      <td>...</td>\n",
       "      <td>...</td>\n",
       "      <td>...</td>\n",
       "      <td>...</td>\n",
       "      <td>...</td>\n",
       "      <td>...</td>\n",
       "      <td>...</td>\n",
       "      <td>...</td>\n",
       "    </tr>\n",
       "    <tr>\n",
       "      <th>8688</th>\n",
       "      <td>0.0</td>\n",
       "      <td>1.0</td>\n",
       "      <td>-0.335059</td>\n",
       "      <td>-0.285196</td>\n",
       "      <td>1.180761</td>\n",
       "      <td>-0.199283</td>\n",
       "      <td>2.0</td>\n",
       "      <td>0</td>\n",
       "      <td>1</td>\n",
       "      <td>0</td>\n",
       "      <td>...</td>\n",
       "      <td>0</td>\n",
       "      <td>0</td>\n",
       "      <td>0</td>\n",
       "      <td>0</td>\n",
       "      <td>1</td>\n",
       "      <td>0</td>\n",
       "      <td>1</td>\n",
       "      <td>0</td>\n",
       "      <td>0</td>\n",
       "      <td>0</td>\n",
       "    </tr>\n",
       "    <tr>\n",
       "      <th>8689</th>\n",
       "      <td>1.0</td>\n",
       "      <td>0.0</td>\n",
       "      <td>-0.335059</td>\n",
       "      <td>-0.285196</td>\n",
       "      <td>-0.271953</td>\n",
       "      <td>-0.264229</td>\n",
       "      <td>0.0</td>\n",
       "      <td>1</td>\n",
       "      <td>0</td>\n",
       "      <td>0</td>\n",
       "      <td>...</td>\n",
       "      <td>0</td>\n",
       "      <td>0</td>\n",
       "      <td>1</td>\n",
       "      <td>0</td>\n",
       "      <td>0</td>\n",
       "      <td>1</td>\n",
       "      <td>0</td>\n",
       "      <td>0</td>\n",
       "      <td>0</td>\n",
       "      <td>1</td>\n",
       "    </tr>\n",
       "    <tr>\n",
       "      <th>8690</th>\n",
       "      <td>0.0</td>\n",
       "      <td>0.0</td>\n",
       "      <td>-0.335059</td>\n",
       "      <td>2.830278</td>\n",
       "      <td>-0.271069</td>\n",
       "      <td>-0.264229</td>\n",
       "      <td>0.0</td>\n",
       "      <td>1</td>\n",
       "      <td>0</td>\n",
       "      <td>0</td>\n",
       "      <td>...</td>\n",
       "      <td>0</td>\n",
       "      <td>0</td>\n",
       "      <td>1</td>\n",
       "      <td>0</td>\n",
       "      <td>0</td>\n",
       "      <td>1</td>\n",
       "      <td>0</td>\n",
       "      <td>1</td>\n",
       "      <td>0</td>\n",
       "      <td>0</td>\n",
       "    </tr>\n",
       "    <tr>\n",
       "      <th>8691</th>\n",
       "      <td>0.0</td>\n",
       "      <td>0.0</td>\n",
       "      <td>-0.335059</td>\n",
       "      <td>-0.285196</td>\n",
       "      <td>0.040164</td>\n",
       "      <td>2.574954</td>\n",
       "      <td>2.0</td>\n",
       "      <td>0</td>\n",
       "      <td>1</td>\n",
       "      <td>0</td>\n",
       "      <td>...</td>\n",
       "      <td>1</td>\n",
       "      <td>0</td>\n",
       "      <td>0</td>\n",
       "      <td>0</td>\n",
       "      <td>0</td>\n",
       "      <td>1</td>\n",
       "      <td>0</td>\n",
       "      <td>1</td>\n",
       "      <td>0</td>\n",
       "      <td>0</td>\n",
       "    </tr>\n",
       "    <tr>\n",
       "      <th>8692</th>\n",
       "      <td>0.0</td>\n",
       "      <td>0.0</td>\n",
       "      <td>-0.145178</td>\n",
       "      <td>-0.285196</td>\n",
       "      <td>-0.271953</td>\n",
       "      <td>-0.253697</td>\n",
       "      <td>2.0</td>\n",
       "      <td>0</td>\n",
       "      <td>1</td>\n",
       "      <td>0</td>\n",
       "      <td>...</td>\n",
       "      <td>1</td>\n",
       "      <td>0</td>\n",
       "      <td>0</td>\n",
       "      <td>0</td>\n",
       "      <td>0</td>\n",
       "      <td>1</td>\n",
       "      <td>1</td>\n",
       "      <td>0</td>\n",
       "      <td>0</td>\n",
       "      <td>0</td>\n",
       "    </tr>\n",
       "  </tbody>\n",
       "</table>\n",
       "<p>8602 rows × 27 columns</p>\n",
       "</div>"
      ],
      "text/plain": [
       "      CryoSleep  VIP  RoomService  ShoppingMall       Spa    VRDeck  \\\n",
       "0           0.0  0.0    -0.335059     -0.285196 -0.271953 -0.264229   \n",
       "1           0.0  0.0    -0.170797     -0.243590  0.213464 -0.225612   \n",
       "2           0.0  1.0    -0.270258     -0.285196  5.665343 -0.221224   \n",
       "3           0.0  0.0    -0.335059      0.332240  2.671495 -0.094843   \n",
       "4           0.0  0.0     0.121558     -0.033894  0.227611 -0.262474   \n",
       "...         ...  ...          ...           ...       ...       ...   \n",
       "8688        0.0  1.0    -0.335059     -0.285196  1.180761 -0.199283   \n",
       "8689        1.0  0.0    -0.335059     -0.285196 -0.271953 -0.264229   \n",
       "8690        0.0  0.0    -0.335059      2.830278 -0.271069 -0.264229   \n",
       "8691        0.0  0.0    -0.335059     -0.285196  0.040164  2.574954   \n",
       "8692        0.0  0.0    -0.145178     -0.285196 -0.271953 -0.253697   \n",
       "\n",
       "      FoodCourtBySpending  HomePlanet_Earth  HomePlanet_Europa  \\\n",
       "0                     0.0                 0                  1   \n",
       "1                     1.0                 1                  0   \n",
       "2                     2.0                 0                  1   \n",
       "3                     2.0                 0                  1   \n",
       "4                     1.0                 1                  0   \n",
       "...                   ...               ...                ...   \n",
       "8688                  2.0                 0                  1   \n",
       "8689                  0.0                 1                  0   \n",
       "8690                  0.0                 1                  0   \n",
       "8691                  2.0                 0                  1   \n",
       "8692                  2.0                 0                  1   \n",
       "\n",
       "      HomePlanet_Mars  ...  CabinDeck_E  CabinDeck_F  CabinDeck_G  \\\n",
       "0                   0  ...            0            0            0   \n",
       "1                   0  ...            0            1            0   \n",
       "2                   0  ...            0            0            0   \n",
       "3                   0  ...            0            0            0   \n",
       "4                   0  ...            0            1            0   \n",
       "...               ...  ...          ...          ...          ...   \n",
       "8688                0  ...            0            0            0   \n",
       "8689                0  ...            0            0            1   \n",
       "8690                0  ...            0            0            1   \n",
       "8691                0  ...            1            0            0   \n",
       "8692                0  ...            1            0            0   \n",
       "\n",
       "      CabinDeck_T  CabinSide_P  CabinSide_S  AgeGroup_Middle-Ages  \\\n",
       "0               0            1            0                     0   \n",
       "1               0            0            1                     0   \n",
       "2               0            0            1                     1   \n",
       "3               0            0            1                     0   \n",
       "4               0            0            1                     0   \n",
       "...           ...          ...          ...                   ...   \n",
       "8688            0            1            0                     1   \n",
       "8689            0            0            1                     0   \n",
       "8690            0            0            1                     0   \n",
       "8691            0            0            1                     0   \n",
       "8692            0            0            1                     1   \n",
       "\n",
       "      AgeGroup_Millenials  AgeGroup_Old People  AgeGroup_Young People  \n",
       "0                       1                    0                      0  \n",
       "1                       1                    0                      0  \n",
       "2                       0                    0                      0  \n",
       "3                       1                    0                      0  \n",
       "4                       0                    0                      1  \n",
       "...                   ...                  ...                    ...  \n",
       "8688                    0                    0                      0  \n",
       "8689                    0                    0                      1  \n",
       "8690                    1                    0                      0  \n",
       "8691                    1                    0                      0  \n",
       "8692                    0                    0                      0  \n",
       "\n",
       "[8602 rows x 27 columns]"
      ]
     },
     "execution_count": 50,
     "metadata": {},
     "output_type": "execute_result"
    }
   ],
   "source": [
    "X"
   ]
  },
  {
   "cell_type": "code",
   "execution_count": 51,
   "id": "4a05f8e5",
   "metadata": {},
   "outputs": [],
   "source": [
    "from sklearn.model_selection import train_test_split\n",
    "\n",
    "X_train, X_test, y_train, y_test = train_test_split(X, y, train_size = 0.8, random_state = 42)\n",
    "\n",
    "X_train, X_val, y_train, y_val = train_test_split(X, y, train_size = 0.9, random_state = 42)"
   ]
  },
  {
   "cell_type": "code",
   "execution_count": 52,
   "id": "740241dd",
   "metadata": {},
   "outputs": [],
   "source": [
    "#What model to go with:\n",
    "\n",
    "from sklearn.linear_model import LogisticRegression\n",
    "from sklearn.tree import DecisionTreeClassifier\n",
    "from sklearn.naive_bayes import GaussianNB\n",
    "from sklearn.ensemble import RandomForestClassifier"
   ]
  },
  {
   "cell_type": "code",
   "execution_count": 53,
   "id": "1355ab0a",
   "metadata": {},
   "outputs": [],
   "source": [
    "models = []\n",
    "models.append(('LR', LogisticRegression()))\n",
    "models.append(('DTC', DecisionTreeClassifier()))\n",
    "models.append(('Naive_Bayes', GaussianNB()))\n",
    "models.append(('RDT', RandomForestClassifier()))"
   ]
  },
  {
   "cell_type": "code",
   "execution_count": 54,
   "id": "3678c5f9",
   "metadata": {},
   "outputs": [
    {
     "data": {
      "text/plain": [
       "[('LR', LogisticRegression()),\n",
       " ('DTC', DecisionTreeClassifier()),\n",
       " ('Naive_Bayes', GaussianNB()),\n",
       " ('RDT', RandomForestClassifier())]"
      ]
     },
     "execution_count": 54,
     "metadata": {},
     "output_type": "execute_result"
    }
   ],
   "source": [
    "models"
   ]
  },
  {
   "cell_type": "code",
   "execution_count": 55,
   "id": "b1acca52",
   "metadata": {},
   "outputs": [],
   "source": [
    "results = []\n",
    "names = []\n",
    "\n",
    "from sklearn.model_selection import cross_val_score\n",
    "from sklearn.model_selection import KFold\n",
    "\n",
    "for name, model in models:\n",
    "    kfold = KFold(n_splits = 10, random_state = 7, shuffle = True)\n",
    "    cv_results = cross_val_score(model, X_train, y_train.ravel(), cv = kfold, scoring = 'neg_mean_squared_error')\n",
    "    results.append(cv_results)\n",
    "    names.append(name)"
   ]
  },
  {
   "cell_type": "code",
   "execution_count": 56,
   "id": "ab300f6c",
   "metadata": {},
   "outputs": [
    {
     "data": {
      "image/png": "[encoded data removed]",
      "text/plain": [
       "<Figure size 720x720 with 2 Axes>"
      ]
     },
     "metadata": {
      "needs_background": "light"
     },
     "output_type": "display_data"
    }
   ],
   "source": [
    "fig = plt.figure(figsize = (10,10))\n",
    "plt.title('Algorithm Comparison')\n",
    "ax = fig.add_subplot(111)\n",
    "plt.boxplot(results)\n",
    "plt.xticks(ticks = [1,2,3,4], labels = names, rotation = 45)\n",
    "plt.show()"
   ]
  },
  {
   "cell_type": "code",
   "execution_count": 57,
   "id": "31409e6c",
   "metadata": {},
   "outputs": [],
   "source": [
    "#We will choose LogisticRegression and RandomForestClassifier to tune"
   ]
  },
  {
   "cell_type": "code",
   "execution_count": 58,
   "id": "bdcf277b",
   "metadata": {},
   "outputs": [
    {
     "name": "stderr",
     "output_type": "stream",
     "text": [
      "C:\\Users\\user\\AppData\\Local\\Programs\\Python\\Python39\\lib\\site-packages\\sklearn\\utils\\validation.py:993: DataConversionWarning: A column-vector y was passed when a 1d array was expected. Please change the shape of y to (n_samples, ), for example using ravel().\n",
      "  y = column_or_1d(y, warn=True)\n"
     ]
    }
   ],
   "source": [
    "#logisticRegression\n",
    "lr = LogisticRegression()\n",
    "\n",
    "lr.fit(X_train, y_train)\n",
    "\n",
    "lrprediction = lr.predict(X_test)"
   ]
  },
  {
   "cell_type": "code",
   "execution_count": 59,
   "id": "4d4958de",
   "metadata": {},
   "outputs": [],
   "source": [
    "from sklearn.metrics import classification_report"
   ]
  },
  {
   "cell_type": "code",
   "execution_count": 60,
   "id": "9bf3dcb1",
   "metadata": {},
   "outputs": [
    {
     "name": "stdout",
     "output_type": "stream",
     "text": [
      "              precision    recall  f1-score   support\n",
      "\n",
      "         0.0       0.78      0.78      0.78       849\n",
      "         1.0       0.79      0.79      0.79       872\n",
      "\n",
      "    accuracy                           0.78      1721\n",
      "   macro avg       0.78      0.78      0.78      1721\n",
      "weighted avg       0.78      0.78      0.78      1721\n",
      "\n"
     ]
    }
   ],
   "source": [
    "print(classification_report(y_test, lrprediction))"
   ]
  },
  {
   "cell_type": "code",
   "execution_count": 61,
   "id": "70e5696f",
   "metadata": {},
   "outputs": [
    {
     "data": {
      "image/png": "[encoded data removed]",
      "text/plain": [
       "<Figure size 432x288 with 2 Axes>"
      ]
     },
     "metadata": {
      "needs_background": "light"
     },
     "output_type": "display_data"
    }
   ],
   "source": [
    "from sklearn.metrics import confusion_matrix\n",
    "\n",
    "cm = confusion_matrix(lrprediction, y_test)\n",
    "\n",
    "def plot_confusion_matrix(cm, classes, title = \"Confusion_Matrix\"):\n",
    "    sns.heatmap(cm, xticklabels = classes, yticklabels = classes, annot = True, fmt = 'd')\n",
    "    plt.title(title, size = 22)\n",
    "    plt.xlabel('Predicted')\n",
    "    plt.ylabel('Actual')\n",
    "\n",
    "plot_confusion_matrix(cm, classes = lr.classes_, title = \"Confusion_Matrix\")"
   ]
  },
  {
   "cell_type": "code",
   "execution_count": 62,
   "id": "acbd7c82",
   "metadata": {},
   "outputs": [],
   "source": [
    "#Let's see can we improve this model, especially the prediction ability of guessing Transported passengers:\n",
    "FP = cm.sum(axis = 0) - np.diag(cm)\n",
    "FN = cm.sum(axis = 1) - np.diag(cm)\n",
    "TP = np.diag(cm)\n",
    "TN = cm.sum() - (FP + FN + TP)"
   ]
  },
  {
   "cell_type": "code",
   "execution_count": 63,
   "id": "0877c684",
   "metadata": {},
   "outputs": [
    {
     "name": "stdout",
     "output_type": "stream",
     "text": [
      "Sensitivity of this model is [0.78066038 0.78579611]\n"
     ]
    }
   ],
   "source": [
    "Sensitivity = TP / (TP + FN)\n",
    "print('Sensitivity of this model is', Sensitivity)"
   ]
  },
  {
   "cell_type": "code",
   "execution_count": 64,
   "id": "7021ec28",
   "metadata": {},
   "outputs": [
    {
     "name": "stdout",
     "output_type": "stream",
     "text": [
      "Precision of this model is [0.77974087 0.78669725]\n"
     ]
    }
   ],
   "source": [
    "Precision = TP / (TP + FP)\n",
    "print('Precision of this model is', Precision)"
   ]
  },
  {
   "cell_type": "code",
   "execution_count": 65,
   "id": "212e036a",
   "metadata": {},
   "outputs": [
    {
     "name": "stdout",
     "output_type": "stream",
     "text": [
      "False Positive Rate of this model is [0.21420389 0.21933962]\n"
     ]
    }
   ],
   "source": [
    "FPR = FP / (FP + TN)\n",
    "print('False Positive Rate of this model is', FPR)"
   ]
  },
  {
   "cell_type": "code",
   "execution_count": 66,
   "id": "9e27a189",
   "metadata": {},
   "outputs": [
    {
     "name": "stdout",
     "output_type": "stream",
     "text": [
      "False Negative Rate of this model is [0.21933962 0.21420389]\n"
     ]
    }
   ],
   "source": [
    "FNR = FN / (FN + TP)\n",
    "print('False Negative Rate of this model is', FNR)"
   ]
  },
  {
   "cell_type": "code",
   "execution_count": 67,
   "id": "afc0c38a",
   "metadata": {},
   "outputs": [
    {
     "name": "stdout",
     "output_type": "stream",
     "text": [
      "The Accuracy Score for this model with c = 1e-05 is 0.6891342242882045\n",
      "The Log Loss Score for this model with c = 1e-05 is 0.6885722692163221\n",
      "The precision score for this model with c = 1e-05 is 0.8520642201834863\n",
      "The Accuracy Score for this model with c = 3.359818286283781e-05 is 0.7187681580476467\n",
      "The Log Loss Score for this model with c = 3.359818286283781e-05 is 0.6788687920040285\n"
     ]
    },
    {
     "name": "stderr",
     "output_type": "stream",
     "text": [
      "C:\\Users\\user\\AppData\\Local\\Programs\\Python\\Python39\\lib\\site-packages\\sklearn\\utils\\validation.py:993: DataConversionWarning: A column-vector y was passed when a 1d array was expected. Please change the shape of y to (n_samples, ), for example using ravel().\n",
      "  y = column_or_1d(y, warn=True)\n",
      "C:\\Users\\user\\AppData\\Local\\Programs\\Python\\Python39\\lib\\site-packages\\sklearn\\utils\\validation.py:993: DataConversionWarning: A column-vector y was passed when a 1d array was expected. Please change the shape of y to (n_samples, ), for example using ravel().\n",
      "  y = column_or_1d(y, warn=True)\n"
     ]
    },
    {
     "name": "stdout",
     "output_type": "stream",
     "text": [
      "The precision score for this model with c = 3.359818286283781e-05 is 0.7637614678899083\n",
      "The Accuracy Score for this model with c = 0.00011288378916846884 is 0.7443346891342243\n",
      "The Log Loss Score for this model with c = 0.00011288378916846884 is 0.6536324420430839\n",
      "The precision score for this model with c = 0.00011288378916846884 is 0.7557339449541285\n",
      "The Accuracy Score for this model with c = 0.000379269019073225 is 0.7617664148750727\n",
      "The Log Loss Score for this model with c = 0.000379269019073225 is 0.6058336690382646\n",
      "The precision score for this model with c = 0.000379269019073225 is 0.7626146788990825\n",
      "The Accuracy Score for this model with c = 0.0012742749857031334 is 0.7762928529924462\n",
      "The Log Loss Score for this model with c = 0.0012742749857031334 is 0.5451573453077688\n"
     ]
    },
    {
     "name": "stderr",
     "output_type": "stream",
     "text": [
      "C:\\Users\\user\\AppData\\Local\\Programs\\Python\\Python39\\lib\\site-packages\\sklearn\\utils\\validation.py:993: DataConversionWarning: A column-vector y was passed when a 1d array was expected. Please change the shape of y to (n_samples, ), for example using ravel().\n",
      "  y = column_or_1d(y, warn=True)\n",
      "C:\\Users\\user\\AppData\\Local\\Programs\\Python\\Python39\\lib\\site-packages\\sklearn\\utils\\validation.py:993: DataConversionWarning: A column-vector y was passed when a 1d array was expected. Please change the shape of y to (n_samples, ), for example using ravel().\n",
      "  y = column_or_1d(y, warn=True)\n",
      "C:\\Users\\user\\AppData\\Local\\Programs\\Python\\Python39\\lib\\site-packages\\sklearn\\utils\\validation.py:993: DataConversionWarning: A column-vector y was passed when a 1d array was expected. Please change the shape of y to (n_samples, ), for example using ravel().\n",
      "  y = column_or_1d(y, warn=True)\n"
     ]
    },
    {
     "name": "stdout",
     "output_type": "stream",
     "text": [
      "The precision score for this model with c = 0.0012742749857031334 is 0.7729357798165137\n",
      "The Accuracy Score for this model with c = 0.004281332398719391 is 0.7768739105171412\n",
      "The Log Loss Score for this model with c = 0.004281332398719391 is 0.4943813625686898\n",
      "The precision score for this model with c = 0.004281332398719391 is 0.7752293577981652\n",
      "The Accuracy Score for this model with c = 0.01438449888287663 is 0.7826844857640907\n",
      "The Log Loss Score for this model with c = 0.01438449888287663 is 0.4659456013772837\n"
     ]
    },
    {
     "name": "stderr",
     "output_type": "stream",
     "text": [
      "C:\\Users\\user\\AppData\\Local\\Programs\\Python\\Python39\\lib\\site-packages\\sklearn\\utils\\validation.py:993: DataConversionWarning: A column-vector y was passed when a 1d array was expected. Please change the shape of y to (n_samples, ), for example using ravel().\n",
      "  y = column_or_1d(y, warn=True)\n",
      "C:\\Users\\user\\AppData\\Local\\Programs\\Python\\Python39\\lib\\site-packages\\sklearn\\utils\\validation.py:993: DataConversionWarning: A column-vector y was passed when a 1d array was expected. Please change the shape of y to (n_samples, ), for example using ravel().\n",
      "  y = column_or_1d(y, warn=True)\n"
     ]
    },
    {
     "name": "stdout",
     "output_type": "stream",
     "text": [
      "The precision score for this model with c = 0.01438449888287663 is 0.7717889908256881\n",
      "The Accuracy Score for this model with c = 0.04832930238571752 is 0.7826844857640907\n",
      "The Log Loss Score for this model with c = 0.04832930238571752 is 0.4550833767789228\n",
      "The precision score for this model with c = 0.04832930238571752 is 0.7786697247706422\n",
      "The Accuracy Score for this model with c = 0.1623776739188721 is 0.7844276583381755\n"
     ]
    },
    {
     "name": "stderr",
     "output_type": "stream",
     "text": [
      "C:\\Users\\user\\AppData\\Local\\Programs\\Python\\Python39\\lib\\site-packages\\sklearn\\utils\\validation.py:993: DataConversionWarning: A column-vector y was passed when a 1d array was expected. Please change the shape of y to (n_samples, ), for example using ravel().\n",
      "  y = column_or_1d(y, warn=True)\n",
      "C:\\Users\\user\\AppData\\Local\\Programs\\Python\\Python39\\lib\\site-packages\\sklearn\\utils\\validation.py:993: DataConversionWarning: A column-vector y was passed when a 1d array was expected. Please change the shape of y to (n_samples, ), for example using ravel().\n",
      "  y = column_or_1d(y, warn=True)\n"
     ]
    },
    {
     "name": "stdout",
     "output_type": "stream",
     "text": [
      "The Log Loss Score for this model with c = 0.1623776739188721 is 0.4526560380920324\n",
      "The precision score for this model with c = 0.1623776739188721 is 0.7878440366972477\n",
      "The Accuracy Score for this model with c = 0.5455594781168515 is 0.7826844857640907\n",
      "The Log Loss Score for this model with c = 0.5455594781168515 is 0.45268453740565745\n"
     ]
    },
    {
     "name": "stderr",
     "output_type": "stream",
     "text": [
      "C:\\Users\\user\\AppData\\Local\\Programs\\Python\\Python39\\lib\\site-packages\\sklearn\\utils\\validation.py:993: DataConversionWarning: A column-vector y was passed when a 1d array was expected. Please change the shape of y to (n_samples, ), for example using ravel().\n",
      "  y = column_or_1d(y, warn=True)\n"
     ]
    },
    {
     "name": "stdout",
     "output_type": "stream",
     "text": [
      "The precision score for this model with c = 0.5455594781168515 is 0.786697247706422\n"
     ]
    },
    {
     "name": "stderr",
     "output_type": "stream",
     "text": [
      "C:\\Users\\user\\AppData\\Local\\Programs\\Python\\Python39\\lib\\site-packages\\sklearn\\utils\\validation.py:993: DataConversionWarning: A column-vector y was passed when a 1d array was expected. Please change the shape of y to (n_samples, ), for example using ravel().\n",
      "  y = column_or_1d(y, warn=True)\n"
     ]
    },
    {
     "name": "stdout",
     "output_type": "stream",
     "text": [
      "The Accuracy Score for this model with c = 1.8329807108324339 is 0.7826844857640907\n",
      "The Log Loss Score for this model with c = 1.8329807108324339 is 0.4529096896309373\n",
      "The precision score for this model with c = 1.8329807108324339 is 0.786697247706422\n"
     ]
    },
    {
     "name": "stderr",
     "output_type": "stream",
     "text": [
      "C:\\Users\\user\\AppData\\Local\\Programs\\Python\\Python39\\lib\\site-packages\\sklearn\\utils\\validation.py:993: DataConversionWarning: A column-vector y was passed when a 1d array was expected. Please change the shape of y to (n_samples, ), for example using ravel().\n",
      "  y = column_or_1d(y, warn=True)\n"
     ]
    },
    {
     "name": "stdout",
     "output_type": "stream",
     "text": [
      "The Accuracy Score for this model with c = 6.1584821106602545 is 0.7826844857640907\n",
      "The Log Loss Score for this model with c = 6.1584821106602545 is 0.4530317571566789\n",
      "The precision score for this model with c = 6.1584821106602545 is 0.786697247706422\n"
     ]
    },
    {
     "name": "stderr",
     "output_type": "stream",
     "text": [
      "C:\\Users\\user\\AppData\\Local\\Programs\\Python\\Python39\\lib\\site-packages\\sklearn\\utils\\validation.py:993: DataConversionWarning: A column-vector y was passed when a 1d array was expected. Please change the shape of y to (n_samples, ), for example using ravel().\n",
      "  y = column_or_1d(y, warn=True)\n"
     ]
    },
    {
     "name": "stdout",
     "output_type": "stream",
     "text": [
      "The Accuracy Score for this model with c = 20.6913808111479 is 0.7826844857640907\n",
      "The Log Loss Score for this model with c = 20.6913808111479 is 0.45307172764440157\n",
      "The precision score for this model with c = 20.6913808111479 is 0.786697247706422\n"
     ]
    },
    {
     "name": "stderr",
     "output_type": "stream",
     "text": [
      "C:\\Users\\user\\AppData\\Local\\Programs\\Python\\Python39\\lib\\site-packages\\sklearn\\utils\\validation.py:993: DataConversionWarning: A column-vector y was passed when a 1d array was expected. Please change the shape of y to (n_samples, ), for example using ravel().\n",
      "  y = column_or_1d(y, warn=True)\n"
     ]
    },
    {
     "name": "stdout",
     "output_type": "stream",
     "text": [
      "The Accuracy Score for this model with c = 69.51927961775606 is 0.7826844857640907\n",
      "The Log Loss Score for this model with c = 69.51927961775606 is 0.4530886057276506\n",
      "The precision score for this model with c = 69.51927961775606 is 0.786697247706422\n",
      "The Accuracy Score for this model with c = 233.57214690901213 is 0.7826844857640907\n",
      "The Log Loss Score for this model with c = 233.57214690901213 is 0.4530950771985853\n",
      "The precision score for this model with c = 233.57214690901213 is 0.786697247706422\n"
     ]
    },
    {
     "name": "stderr",
     "output_type": "stream",
     "text": [
      "C:\\Users\\user\\AppData\\Local\\Programs\\Python\\Python39\\lib\\site-packages\\sklearn\\utils\\validation.py:993: DataConversionWarning: A column-vector y was passed when a 1d array was expected. Please change the shape of y to (n_samples, ), for example using ravel().\n",
      "  y = column_or_1d(y, warn=True)\n",
      "C:\\Users\\user\\AppData\\Local\\Programs\\Python\\Python39\\lib\\site-packages\\sklearn\\utils\\validation.py:993: DataConversionWarning: A column-vector y was passed when a 1d array was expected. Please change the shape of y to (n_samples, ), for example using ravel().\n",
      "  y = column_or_1d(y, warn=True)\n"
     ]
    },
    {
     "name": "stdout",
     "output_type": "stream",
     "text": [
      "The Accuracy Score for this model with c = 784.7599703514607 is 0.7826844857640907\n",
      "The Log Loss Score for this model with c = 784.7599703514607 is 0.4530968175903423\n",
      "The precision score for this model with c = 784.7599703514607 is 0.786697247706422\n"
     ]
    },
    {
     "name": "stderr",
     "output_type": "stream",
     "text": [
      "C:\\Users\\user\\AppData\\Local\\Programs\\Python\\Python39\\lib\\site-packages\\sklearn\\utils\\validation.py:993: DataConversionWarning: A column-vector y was passed when a 1d array was expected. Please change the shape of y to (n_samples, ), for example using ravel().\n",
      "  y = column_or_1d(y, warn=True)\n"
     ]
    },
    {
     "name": "stdout",
     "output_type": "stream",
     "text": [
      "The Accuracy Score for this model with c = 2636.6508987303555 is 0.7826844857640907\n",
      "The Log Loss Score for this model with c = 2636.6508987303555 is 0.45309772244286184\n",
      "The precision score for this model with c = 2636.6508987303555 is 0.786697247706422\n",
      "The Accuracy Score for this model with c = 8858.667904100832 is 0.7826844857640907\n",
      "The Log Loss Score for this model with c = 8858.667904100832 is 0.45309659878145053\n"
     ]
    },
    {
     "name": "stderr",
     "output_type": "stream",
     "text": [
      "C:\\Users\\user\\AppData\\Local\\Programs\\Python\\Python39\\lib\\site-packages\\sklearn\\utils\\validation.py:993: DataConversionWarning: A column-vector y was passed when a 1d array was expected. Please change the shape of y to (n_samples, ), for example using ravel().\n",
      "  y = column_or_1d(y, warn=True)\n"
     ]
    },
    {
     "name": "stdout",
     "output_type": "stream",
     "text": [
      "The precision score for this model with c = 8858.667904100832 is 0.786697247706422\n",
      "The Accuracy Score for this model with c = 29763.51441631313 is 0.7826844857640907\n",
      "The Log Loss Score for this model with c = 29763.51441631313 is 0.45309618290133796\n"
     ]
    },
    {
     "name": "stderr",
     "output_type": "stream",
     "text": [
      "C:\\Users\\user\\AppData\\Local\\Programs\\Python\\Python39\\lib\\site-packages\\sklearn\\utils\\validation.py:993: DataConversionWarning: A column-vector y was passed when a 1d array was expected. Please change the shape of y to (n_samples, ), for example using ravel().\n",
      "  y = column_or_1d(y, warn=True)\n"
     ]
    },
    {
     "name": "stdout",
     "output_type": "stream",
     "text": [
      "The precision score for this model with c = 29763.51441631313 is 0.786697247706422\n",
      "The Accuracy Score for this model with c = 100000.0 is 0.7826844857640907\n",
      "The Log Loss Score for this model with c = 100000.0 is 0.45309663486184776\n"
     ]
    },
    {
     "name": "stderr",
     "output_type": "stream",
     "text": [
      "C:\\Users\\user\\AppData\\Local\\Programs\\Python\\Python39\\lib\\site-packages\\sklearn\\utils\\validation.py:993: DataConversionWarning: A column-vector y was passed when a 1d array was expected. Please change the shape of y to (n_samples, ), for example using ravel().\n",
      "  y = column_or_1d(y, warn=True)\n"
     ]
    },
    {
     "name": "stdout",
     "output_type": "stream",
     "text": [
      "The precision score for this model with c = 100000.0 is 0.786697247706422\n"
     ]
    },
    {
     "data": {
      "image/png": "[encoded data removed]",
      "text/plain": [
       "<Figure size 432x288 with 21 Axes>"
      ]
     },
     "metadata": {
      "needs_background": "light"
     },
     "output_type": "display_data"
    }
   ],
   "source": [
    "#HyperParameterTuning:\n",
    "from sklearn.metrics import log_loss\n",
    "\n",
    "C_list = np.geomspace(1e-5, 1e5, num = 20)\n",
    "\n",
    "CA = []\n",
    "\n",
    "log_loss_score = []\n",
    "\n",
    "Precision_scores = []\n",
    "\n",
    "for c in C_list:\n",
    "    lr2 = LogisticRegression(C = c)\n",
    "    lr2.fit(X_train, y_train)\n",
    "    CA_score = lr2.score(X_test, y_test)\n",
    "    CA.append(CA_score)\n",
    "    print(f'The Accuracy Score for this model with c = {c} is {CA_score}')\n",
    "    predict_prob = lr2.predict_proba(X_test)\n",
    "    ll = log_loss(y_test, predict_prob)\n",
    "    log_loss_score.append(ll)\n",
    "    print(f'The Log Loss Score for this model with c = {c} is', ll)\n",
    "    cm = confusion_matrix(lr2.predict(X_test), y_test)\n",
    "    plot_cm = plot_confusion_matrix(cm, classes = lr2.classes_, title = \"Confusion_Matrix\")\n",
    "    TP = np.diag(cm)\n",
    "    FP = cm.sum(axis = 0) - TP\n",
    "    Precision = TP / (TP + FP)\n",
    "    Precision_scores.append(Precision[1])\n",
    "    print(f'The precision score for this model with c = {c} is', Precision[1])"
   ]
  },
  {
   "cell_type": "code",
   "execution_count": 68,
   "id": "f72fbddc",
   "metadata": {},
   "outputs": [
    {
     "data": {
      "text/html": [
       "<div>\n",
       "<style scoped>\n",
       "    .dataframe tbody tr th:only-of-type {\n",
       "        vertical-align: middle;\n",
       "    }\n",
       "\n",
       "    .dataframe tbody tr th {\n",
       "        vertical-align: top;\n",
       "    }\n",
       "\n",
       "    .dataframe thead th {\n",
       "        text-align: right;\n",
       "    }\n",
       "</style>\n",
       "<table border=\"1\" class=\"dataframe\">\n",
       "  <thead>\n",
       "    <tr style=\"text-align: right;\">\n",
       "      <th></th>\n",
       "      <th>Inverse Regularization</th>\n",
       "      <th>Accuracy Score</th>\n",
       "      <th>Log Loss Score</th>\n",
       "      <th>Precision</th>\n",
       "    </tr>\n",
       "  </thead>\n",
       "  <tbody>\n",
       "    <tr>\n",
       "      <th>8</th>\n",
       "      <td>[0.1623776739188721]</td>\n",
       "      <td>[0.7844276583381755]</td>\n",
       "      <td>[0.4526560380920324]</td>\n",
       "      <td>[0.7878440366972477]</td>\n",
       "    </tr>\n",
       "    <tr>\n",
       "      <th>9</th>\n",
       "      <td>[0.5455594781168515]</td>\n",
       "      <td>[0.7826844857640907]</td>\n",
       "      <td>[0.45268453740565745]</td>\n",
       "      <td>[0.786697247706422]</td>\n",
       "    </tr>\n",
       "    <tr>\n",
       "      <th>10</th>\n",
       "      <td>[1.8329807108324339]</td>\n",
       "      <td>[0.7826844857640907]</td>\n",
       "      <td>[0.4529096896309373]</td>\n",
       "      <td>[0.786697247706422]</td>\n",
       "    </tr>\n",
       "    <tr>\n",
       "      <th>11</th>\n",
       "      <td>[6.1584821106602545]</td>\n",
       "      <td>[0.7826844857640907]</td>\n",
       "      <td>[0.4530317571566789]</td>\n",
       "      <td>[0.786697247706422]</td>\n",
       "    </tr>\n",
       "    <tr>\n",
       "      <th>12</th>\n",
       "      <td>[20.6913808111479]</td>\n",
       "      <td>[0.7826844857640907]</td>\n",
       "      <td>[0.45307172764440157]</td>\n",
       "      <td>[0.786697247706422]</td>\n",
       "    </tr>\n",
       "    <tr>\n",
       "      <th>13</th>\n",
       "      <td>[69.51927961775606]</td>\n",
       "      <td>[0.7826844857640907]</td>\n",
       "      <td>[0.4530886057276506]</td>\n",
       "      <td>[0.786697247706422]</td>\n",
       "    </tr>\n",
       "    <tr>\n",
       "      <th>14</th>\n",
       "      <td>[233.57214690901213]</td>\n",
       "      <td>[0.7826844857640907]</td>\n",
       "      <td>[0.4530950771985853]</td>\n",
       "      <td>[0.786697247706422]</td>\n",
       "    </tr>\n",
       "    <tr>\n",
       "      <th>18</th>\n",
       "      <td>[29763.51441631313]</td>\n",
       "      <td>[0.7826844857640907]</td>\n",
       "      <td>[0.45309618290133796]</td>\n",
       "      <td>[0.786697247706422]</td>\n",
       "    </tr>\n",
       "    <tr>\n",
       "      <th>17</th>\n",
       "      <td>[8858.667904100832]</td>\n",
       "      <td>[0.7826844857640907]</td>\n",
       "      <td>[0.45309659878145053]</td>\n",
       "      <td>[0.786697247706422]</td>\n",
       "    </tr>\n",
       "    <tr>\n",
       "      <th>19</th>\n",
       "      <td>[100000.0]</td>\n",
       "      <td>[0.7826844857640907]</td>\n",
       "      <td>[0.45309663486184776]</td>\n",
       "      <td>[0.786697247706422]</td>\n",
       "    </tr>\n",
       "    <tr>\n",
       "      <th>15</th>\n",
       "      <td>[784.7599703514607]</td>\n",
       "      <td>[0.7826844857640907]</td>\n",
       "      <td>[0.4530968175903423]</td>\n",
       "      <td>[0.786697247706422]</td>\n",
       "    </tr>\n",
       "    <tr>\n",
       "      <th>16</th>\n",
       "      <td>[2636.6508987303555]</td>\n",
       "      <td>[0.7826844857640907]</td>\n",
       "      <td>[0.45309772244286184]</td>\n",
       "      <td>[0.786697247706422]</td>\n",
       "    </tr>\n",
       "    <tr>\n",
       "      <th>7</th>\n",
       "      <td>[0.04832930238571752]</td>\n",
       "      <td>[0.7826844857640907]</td>\n",
       "      <td>[0.4550833767789228]</td>\n",
       "      <td>[0.7786697247706422]</td>\n",
       "    </tr>\n",
       "    <tr>\n",
       "      <th>6</th>\n",
       "      <td>[0.01438449888287663]</td>\n",
       "      <td>[0.7826844857640907]</td>\n",
       "      <td>[0.4659456013772837]</td>\n",
       "      <td>[0.7717889908256881]</td>\n",
       "    </tr>\n",
       "    <tr>\n",
       "      <th>5</th>\n",
       "      <td>[0.004281332398719391]</td>\n",
       "      <td>[0.7768739105171412]</td>\n",
       "      <td>[0.4943813625686898]</td>\n",
       "      <td>[0.7752293577981652]</td>\n",
       "    </tr>\n",
       "    <tr>\n",
       "      <th>4</th>\n",
       "      <td>[0.0012742749857031334]</td>\n",
       "      <td>[0.7762928529924462]</td>\n",
       "      <td>[0.5451573453077688]</td>\n",
       "      <td>[0.7729357798165137]</td>\n",
       "    </tr>\n",
       "    <tr>\n",
       "      <th>3</th>\n",
       "      <td>[0.000379269019073225]</td>\n",
       "      <td>[0.7617664148750727]</td>\n",
       "      <td>[0.6058336690382646]</td>\n",
       "      <td>[0.7626146788990825]</td>\n",
       "    </tr>\n",
       "    <tr>\n",
       "      <th>2</th>\n",
       "      <td>[0.00011288378916846884]</td>\n",
       "      <td>[0.7443346891342243]</td>\n",
       "      <td>[0.6536324420430839]</td>\n",
       "      <td>[0.7557339449541285]</td>\n",
       "    </tr>\n",
       "    <tr>\n",
       "      <th>1</th>\n",
       "      <td>[3.359818286283781e-05]</td>\n",
       "      <td>[0.7187681580476467]</td>\n",
       "      <td>[0.6788687920040285]</td>\n",
       "      <td>[0.7637614678899083]</td>\n",
       "    </tr>\n",
       "    <tr>\n",
       "      <th>0</th>\n",
       "      <td>[1e-05]</td>\n",
       "      <td>[0.6891342242882045]</td>\n",
       "      <td>[0.6885722692163221]</td>\n",
       "      <td>[0.8520642201834863]</td>\n",
       "    </tr>\n",
       "  </tbody>\n",
       "</table>\n",
       "</div>"
      ],
      "text/plain": [
       "      Inverse Regularization        Accuracy Score         Log Loss Score  \\\n",
       "8       [0.1623776739188721]  [0.7844276583381755]   [0.4526560380920324]   \n",
       "9       [0.5455594781168515]  [0.7826844857640907]  [0.45268453740565745]   \n",
       "10      [1.8329807108324339]  [0.7826844857640907]   [0.4529096896309373]   \n",
       "11      [6.1584821106602545]  [0.7826844857640907]   [0.4530317571566789]   \n",
       "12        [20.6913808111479]  [0.7826844857640907]  [0.45307172764440157]   \n",
       "13       [69.51927961775606]  [0.7826844857640907]   [0.4530886057276506]   \n",
       "14      [233.57214690901213]  [0.7826844857640907]   [0.4530950771985853]   \n",
       "18       [29763.51441631313]  [0.7826844857640907]  [0.45309618290133796]   \n",
       "17       [8858.667904100832]  [0.7826844857640907]  [0.45309659878145053]   \n",
       "19                [100000.0]  [0.7826844857640907]  [0.45309663486184776]   \n",
       "15       [784.7599703514607]  [0.7826844857640907]   [0.4530968175903423]   \n",
       "16      [2636.6508987303555]  [0.7826844857640907]  [0.45309772244286184]   \n",
       "7      [0.04832930238571752]  [0.7826844857640907]   [0.4550833767789228]   \n",
       "6      [0.01438449888287663]  [0.7826844857640907]   [0.4659456013772837]   \n",
       "5     [0.004281332398719391]  [0.7768739105171412]   [0.4943813625686898]   \n",
       "4    [0.0012742749857031334]  [0.7762928529924462]   [0.5451573453077688]   \n",
       "3     [0.000379269019073225]  [0.7617664148750727]   [0.6058336690382646]   \n",
       "2   [0.00011288378916846884]  [0.7443346891342243]   [0.6536324420430839]   \n",
       "1    [3.359818286283781e-05]  [0.7187681580476467]   [0.6788687920040285]   \n",
       "0                    [1e-05]  [0.6891342242882045]   [0.6885722692163221]   \n",
       "\n",
       "               Precision  \n",
       "8   [0.7878440366972477]  \n",
       "9    [0.786697247706422]  \n",
       "10   [0.786697247706422]  \n",
       "11   [0.786697247706422]  \n",
       "12   [0.786697247706422]  \n",
       "13   [0.786697247706422]  \n",
       "14   [0.786697247706422]  \n",
       "18   [0.786697247706422]  \n",
       "17   [0.786697247706422]  \n",
       "19   [0.786697247706422]  \n",
       "15   [0.786697247706422]  \n",
       "16   [0.786697247706422]  \n",
       "7   [0.7786697247706422]  \n",
       "6   [0.7717889908256881]  \n",
       "5   [0.7752293577981652]  \n",
       "4   [0.7729357798165137]  \n",
       "3   [0.7626146788990825]  \n",
       "2   [0.7557339449541285]  \n",
       "1   [0.7637614678899083]  \n",
       "0   [0.8520642201834863]  "
      ]
     },
     "execution_count": 68,
     "metadata": {},
     "output_type": "execute_result"
    }
   ],
   "source": [
    "df_outcomes = zip(C_list.reshape(20,1), np.array(CA).reshape(20,1), np.array(log_loss_score).reshape(20,1), np.array(Precision_scores).reshape(20,1))\n",
    "\n",
    "df_outcomes = pd.DataFrame(df_outcomes, columns = ['Inverse Regularization', 'Accuracy Score', 'Log Loss Score', 'Precision'])\n",
    "\n",
    "df_outcomes.sort_values(by = ['Log Loss Score'], ascending = True)"
   ]
  },
  {
   "cell_type": "code",
   "execution_count": 69,
   "id": "d3ac0729",
   "metadata": {},
   "outputs": [
    {
     "name": "stdout",
     "output_type": "stream",
     "text": [
      "              precision    recall  f1-score   support\n",
      "\n",
      "         0.0       0.78      0.78      0.78       849\n",
      "         1.0       0.79      0.79      0.79       872\n",
      "\n",
      "    accuracy                           0.78      1721\n",
      "   macro avg       0.78      0.78      0.78      1721\n",
      "weighted avg       0.78      0.78      0.78      1721\n",
      "\n"
     ]
    },
    {
     "name": "stderr",
     "output_type": "stream",
     "text": [
      "C:\\Users\\user\\AppData\\Local\\Programs\\Python\\Python39\\lib\\site-packages\\sklearn\\utils\\validation.py:993: DataConversionWarning: A column-vector y was passed when a 1d array was expected. Please change the shape of y to (n_samples, ), for example using ravel().\n",
      "  y = column_or_1d(y, warn=True)\n"
     ]
    }
   ],
   "source": [
    "#The Final LogisticRegressionModel after Tuning is:\n",
    "lr2 = LogisticRegression(random_state = 10, C = 0.1623776739188721)\n",
    "\n",
    "lr2.fit(X_train, y_train)\n",
    "\n",
    "print(classification_report(y_test, lr2.predict(X_test)))"
   ]
  },
  {
   "cell_type": "code",
   "execution_count": 70,
   "id": "22e56b04",
   "metadata": {},
   "outputs": [
    {
     "data": {
      "image/png": "[encoded data removed]",
      "text/plain": [
       "<Figure size 432x288 with 2 Axes>"
      ]
     },
     "metadata": {
      "needs_background": "light"
     },
     "output_type": "display_data"
    }
   ],
   "source": [
    "plot_confusion_matrix(confusion_matrix(lr2.predict(X_test), y_test), classes = lr2.classes_)"
   ]
  },
  {
   "cell_type": "code",
   "execution_count": 71,
   "id": "10e74ae9",
   "metadata": {},
   "outputs": [
    {
     "name": "stderr",
     "output_type": "stream",
     "text": [
      "C:\\Users\\user\\AppData\\Local\\Temp/ipykernel_8644/169156593.py:6: DataConversionWarning: A column-vector y was passed when a 1d array was expected. Please change the shape of y to (n_samples,), for example using ravel().\n",
      "  rf.fit(X_train, y_train)\n"
     ]
    },
    {
     "name": "stdout",
     "output_type": "stream",
     "text": [
      "              precision    recall  f1-score   support\n",
      "\n",
      "         0.0       0.84      0.84      0.84       849\n",
      "         1.0       0.84      0.85      0.84       872\n",
      "\n",
      "    accuracy                           0.84      1721\n",
      "   macro avg       0.84      0.84      0.84      1721\n",
      "weighted avg       0.84      0.84      0.84      1721\n",
      "\n"
     ]
    }
   ],
   "source": [
    "#RandomForest\n",
    "from sklearn.ensemble import RandomForestClassifier\n",
    "\n",
    "rf = RandomForestClassifier()\n",
    "\n",
    "rf.fit(X_train, y_train)\n",
    "\n",
    "print(classification_report(y_test, rf.predict(X_test)))"
   ]
  },
  {
   "cell_type": "code",
   "execution_count": 72,
   "id": "43416446",
   "metadata": {},
   "outputs": [
    {
     "data": {
      "image/png": "[encoded data removed]",
      "text/plain": [
       "<Figure size 432x288 with 2 Axes>"
      ]
     },
     "metadata": {
      "needs_background": "light"
     },
     "output_type": "display_data"
    }
   ],
   "source": [
    "plot_confusion_matrix(cm = confusion_matrix(y_test, rf.predict(X_test)), classes = rf.classes_)"
   ]
  },
  {
   "cell_type": "code",
   "execution_count": 73,
   "id": "a8a9e69d",
   "metadata": {},
   "outputs": [],
   "source": [
    "#Tuning it:\n",
    "#Number of trees in a randomforest:\n",
    "\n",
    "n_estimators = [int(x) for x in np.linspace(start = 100, stop = 200, num = 10)]\n",
    "\n",
    "#Number of features at each split:\n",
    "\n",
    "max_features = ['auto', 'sqrt']\n",
    "\n",
    "#Number of levels in the trees:\n",
    "\n",
    "max_depth = [None, 2, 4]\n",
    "\n",
    "#Minimum number of samples needed to split a node:\n",
    "\n",
    "min_samples_split = [2, 4]\n",
    "\n",
    "#Minimum number of samples needed at each node:\n",
    "\n",
    "min_samples_leaf = [1,2]\n",
    "\n",
    "#Choosing Bootstrap or Not\n",
    "\n",
    "bootstrap = [True, False]"
   ]
  },
  {
   "cell_type": "code",
   "execution_count": 74,
   "id": "0b49cb2c",
   "metadata": {},
   "outputs": [
    {
     "name": "stdout",
     "output_type": "stream",
     "text": [
      "{'n_estimators': [100, 111, 122, 133, 144, 155, 166, 177, 188, 200], 'max_features': ['auto', 'sqrt'], 'max_depth': [None, 2, 4], 'min_samples_split': [2, 4], 'min_samples_leaf': [1, 2], 'bootstrap': [True, False]}\n"
     ]
    }
   ],
   "source": [
    "random_grid = {'n_estimators' : n_estimators,\n",
    "             'max_features' : max_features,\n",
    "             'max_depth' : max_depth,\n",
    "             'min_samples_split' : min_samples_split,\n",
    "             'min_samples_leaf' : min_samples_leaf,\n",
    "             'bootstrap' : bootstrap}\n",
    "print(random_grid)"
   ]
  },
  {
   "cell_type": "code",
   "execution_count": null,
   "id": "83053156",
   "metadata": {},
   "outputs": [],
   "source": [
    "from sklearn.model_selection import GridSearchCV\n",
    "\n",
    "rf_grid = GridSearchCV(estimator = rf, param_grid = random_grid, cv = 10, verbose = 2, n_jobs = 4)"
   ]
  },
  {
   "cell_type": "code",
   "execution_count": null,
   "id": "e1527926",
   "metadata": {},
   "outputs": [],
   "source": [
    "rf_grid.fit(X_train, y_train)"
   ]
  },
  {
   "cell_type": "code",
   "execution_count": 77,
   "id": "36b75936",
   "metadata": {},
   "outputs": [
    {
     "data": {
      "text/plain": [
       "{'bootstrap': True,\n",
       " 'max_depth': None,\n",
       " 'max_features': 'sqrt',\n",
       " 'min_samples_leaf': 2,\n",
       " 'min_samples_split': 4,\n",
       " 'n_estimators': 200}"
      ]
     },
     "execution_count": 77,
     "metadata": {},
     "output_type": "execute_result"
    }
   ],
   "source": [
    "rf_grid.best_params_"
   ]
  },
  {
   "cell_type": "code",
   "execution_count": 83,
   "id": "f855ef92",
   "metadata": {},
   "outputs": [],
   "source": [
    "rf_grid_best = RandomForestClassifier(bootstrap = True,\n",
    " max_depth = None,\n",
    " max_features = 'sqrt',\n",
    " min_samples_leaf = 2,\n",
    " min_samples_split = 4,\n",
    " n_estimators = 200)"
   ]
  },
  {
   "cell_type": "code",
   "execution_count": 84,
   "id": "96a6b700",
   "metadata": {},
   "outputs": [
    {
     "name": "stderr",
     "output_type": "stream",
     "text": [
      "C:\\Users\\user\\AppData\\Local\\Temp/ipykernel_8644/1135399229.py:1: DataConversionWarning: A column-vector y was passed when a 1d array was expected. Please change the shape of y to (n_samples,), for example using ravel().\n",
      "  rf_grid_best.fit(X_train, y_train)\n"
     ]
    },
    {
     "data": {
      "text/plain": [
       "RandomForestClassifier(max_features='sqrt', min_samples_leaf=2,\n",
       "                       min_samples_split=4, n_estimators=200)"
      ]
     },
     "execution_count": 84,
     "metadata": {},
     "output_type": "execute_result"
    }
   ],
   "source": [
    "rf_grid_best.fit(X_train, y_train)"
   ]
  },
  {
   "cell_type": "code",
   "execution_count": 85,
   "id": "64edb28c",
   "metadata": {},
   "outputs": [
    {
     "name": "stdout",
     "output_type": "stream",
     "text": [
      "              precision    recall  f1-score   support\n",
      "\n",
      "         0.0       0.84      0.81      0.82       849\n",
      "         1.0       0.82      0.85      0.83       872\n",
      "\n",
      "    accuracy                           0.83      1721\n",
      "   macro avg       0.83      0.83      0.83      1721\n",
      "weighted avg       0.83      0.83      0.83      1721\n",
      "\n"
     ]
    }
   ],
   "source": [
    "print(classification_report(y_test, rf_grid_best.predict(X_test)))"
   ]
  },
  {
   "cell_type": "code",
   "execution_count": 86,
   "id": "f8e6a6cd",
   "metadata": {},
   "outputs": [
    {
     "name": "stdout",
     "output_type": "stream",
     "text": [
      "              precision    recall  f1-score   support\n",
      "\n",
      "         0.0       0.78      0.79      0.78       434\n",
      "         1.0       0.78      0.77      0.77       427\n",
      "\n",
      "    accuracy                           0.78       861\n",
      "   macro avg       0.78      0.78      0.78       861\n",
      "weighted avg       0.78      0.78      0.78       861\n",
      "\n"
     ]
    }
   ],
   "source": [
    "print(classification_report(y_val, rf_grid_best.predict(X_val)))"
   ]
  },
  {
   "cell_type": "code",
   "execution_count": 90,
   "id": "6a85f75e",
   "metadata": {},
   "outputs": [
    {
     "name": "stdout",
     "output_type": "stream",
     "text": [
      "              precision    recall  f1-score   support\n",
      "\n",
      "         0.0       0.84      0.84      0.84       849\n",
      "         1.0       0.84      0.85      0.84       872\n",
      "\n",
      "    accuracy                           0.84      1721\n",
      "   macro avg       0.84      0.84      0.84      1721\n",
      "weighted avg       0.84      0.84      0.84      1721\n",
      "\n"
     ]
    }
   ],
   "source": [
    "print(classification_report(y_test, rf.predict(X_test)))"
   ]
  },
  {
   "cell_type": "code",
   "execution_count": 91,
   "id": "b1640467",
   "metadata": {},
   "outputs": [
    {
     "name": "stdout",
     "output_type": "stream",
     "text": [
      "              precision    recall  f1-score   support\n",
      "\n",
      "         0.0       0.76      0.81      0.79       434\n",
      "         1.0       0.80      0.74      0.77       427\n",
      "\n",
      "    accuracy                           0.78       861\n",
      "   macro avg       0.78      0.78      0.78       861\n",
      "weighted avg       0.78      0.78      0.78       861\n",
      "\n"
     ]
    }
   ],
   "source": [
    "print(classification_report(y_val, rf.predict(X_val)))"
   ]
  },
  {
   "cell_type": "code",
   "execution_count": null,
   "id": "3f74000e",
   "metadata": {},
   "outputs": [],
   "source": [
    "#There are two valid models:\n",
    "\n",
    "RandomForestClassifier(bootstrap = True, max_depth = None, max_features = 'sqrt', min_samples_leaf = 2, min_samples_split = 4, n_estimators = 200)\n",
    "\n",
    "RandomForestClassifier()\n",
    "\n",
    "LogisticRegression(random_state = 10, C = 0.1623776739188721)"
   ]
  }
 ],
 "metadata": {
  "kernelspec": {
   "display_name": "Python 3 (ipykernel)",
   "language": "python",
   "name": "python3"
  },
  "language_info": {
   "codemirror_mode": {
    "name": "ipython",
    "version": 3
   },
   "file_extension": ".py",
   "mimetype": "text/x-python",
   "name": "python",
   "nbconvert_exporter": "python",
   "pygments_lexer": "ipython3",
   "version": "3.9.7"
  }
 },
 "nbformat": 4,
 "nbformat_minor": 5
}
